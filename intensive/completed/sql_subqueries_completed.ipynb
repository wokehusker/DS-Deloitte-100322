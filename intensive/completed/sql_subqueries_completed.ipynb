{
 "cells": [
  {
   "cell_type": "markdown",
   "metadata": {
    "toc": true
   },
   "source": [
    "<h1>Table of Contents<span class=\"tocSkip\"></span></h1>\n",
    "<div class=\"toc\"><ul class=\"toc-item\"><li><span><a href=\"#Objectives\" data-toc-modified-id=\"Objectives-1\"><span class=\"toc-item-num\">1&nbsp;&nbsp;</span>Objectives</a></span></li><li><span><a href=\"#SQL-Subqueries\" data-toc-modified-id=\"SQL-Subqueries-2\"><span class=\"toc-item-num\">2&nbsp;&nbsp;</span>SQL Subqueries</a></span><ul class=\"toc-item\"><li><span><a href=\"#Subqueries-in-FROM\" data-toc-modified-id=\"Subqueries-in-FROM-2.1\"><span class=\"toc-item-num\">2.1&nbsp;&nbsp;</span>Subqueries in <code>FROM</code></a></span></li><li><span><a href=\"#Note:-Subqueries-are-Like-New-Tables!\" data-toc-modified-id=\"Note:-Subqueries-are-Like-New-Tables!-2.2\"><span class=\"toc-item-num\">2.2&nbsp;&nbsp;</span>Note: Subqueries are Like New Tables!</a></span></li><li><span><a href=\"#Subqueries-in-WHERE\" data-toc-modified-id=\"Subqueries-in-WHERE-2.3\"><span class=\"toc-item-num\">2.3&nbsp;&nbsp;</span>Subqueries in <code>WHERE</code></a></span></li><li><span><a href=\"#Level-Up:-Common-Table-Expressions\" data-toc-modified-id=\"Level-Up:-Common-Table-Expressions-2.4\"><span class=\"toc-item-num\">2.4&nbsp;&nbsp;</span>Level Up: Common Table Expressions</a></span><ul class=\"toc-item\"><li><span><a href=\"#Exercise\" data-toc-modified-id=\"Exercise-2.4.1\"><span class=\"toc-item-num\">2.4.1&nbsp;&nbsp;</span>Exercise</a></span></li></ul></li></ul></li><li><span><a href=\"#SQL-Versions\" data-toc-modified-id=\"SQL-Versions-3\"><span class=\"toc-item-num\">3&nbsp;&nbsp;</span>SQL Versions</a></span><ul class=\"toc-item\"><li><span><a href=\"#SQL-Dialects\" data-toc-modified-id=\"SQL-Dialects-3.1\"><span class=\"toc-item-num\">3.1&nbsp;&nbsp;</span>SQL Dialects</a></span></li><li><span><a href=\"#SQLite-Pros-&amp;-Cons\" data-toc-modified-id=\"SQLite-Pros-&amp;-Cons-3.2\"><span class=\"toc-item-num\">3.2&nbsp;&nbsp;</span>SQLite Pros &amp; Cons</a></span><ul class=\"toc-item\"><li><span><a href=\"#Pros\" data-toc-modified-id=\"Pros-3.2.1\"><span class=\"toc-item-num\">3.2.1&nbsp;&nbsp;</span>Pros</a></span></li><li><span><a href=\"#Cons\" data-toc-modified-id=\"Cons-3.2.2\"><span class=\"toc-item-num\">3.2.2&nbsp;&nbsp;</span>Cons</a></span></li></ul></li><li><span><a href=\"#Extra-Resources:-SQL-Versions\" data-toc-modified-id=\"Extra-Resources:-SQL-Versions-3.3\"><span class=\"toc-item-num\">3.3&nbsp;&nbsp;</span>Extra Resources: SQL Versions</a></span></li></ul></li><li><span><a href=\"#Web-Databases:-data.world\" data-toc-modified-id=\"Web-Databases:-data.world-4\"><span class=\"toc-item-num\">4&nbsp;&nbsp;</span>Web Databases: data.world</a></span><ul class=\"toc-item\"><li><span><a href=\"#Step-1:-Create-a-data.world-account\" data-toc-modified-id=\"Step-1:-Create-a-data.world-account-4.1\"><span class=\"toc-item-num\">4.1&nbsp;&nbsp;</span>Step 1: Create a data.world account</a></span></li><li><span><a href=\"#Step-2:-Create-a-project-using-this-Austin-AirBnB-dataset\" data-toc-modified-id=\"Step-2:-Create-a-project-using-this-Austin-AirBnB-dataset-4.2\"><span class=\"toc-item-num\">4.2&nbsp;&nbsp;</span>Step 2: Create a project using this <a href=\"https://data.world/jonloyens/inside-airbnb-austin\" target=\"_blank\">Austin AirBnB</a> dataset</a></span></li><li><span><a href=\"#Step-3:-Create-a-SQL-query\" data-toc-modified-id=\"Step-3:-Create-a-SQL-query-4.3\"><span class=\"toc-item-num\">4.3&nbsp;&nbsp;</span>Step 3: Create a SQL query</a></span></li><li><span><a href=\"#Step-4:-Run-a-simple-SQL-query\" data-toc-modified-id=\"Step-4:-Run-a-simple-SQL-query-4.4\"><span class=\"toc-item-num\">4.4&nbsp;&nbsp;</span>Step 4: Run a simple SQL query</a></span></li><li><span><a href=\"#Step-5:-Practice-using-SQL-to-explore-the-data\" data-toc-modified-id=\"Step-5:-Practice-using-SQL-to-explore-the-data-4.5\"><span class=\"toc-item-num\">4.5&nbsp;&nbsp;</span>Step 5: Practice using SQL to explore the data</a></span><ul class=\"toc-item\"><li><span><a href=\"#Exercise-1:-Create-a-table-showing-the-number-of-listings-in-each-neighborhood\" data-toc-modified-id=\"Exercise-1:-Create-a-table-showing-the-number-of-listings-in-each-neighborhood-4.5.1\"><span class=\"toc-item-num\">4.5.1&nbsp;&nbsp;</span>Exercise 1: Create a table showing the number of listings in each neighborhood</a></span></li><li><span><a href=\"#Exercise-2:-Create-a-table-showing-the-20-listings-with-the-most-reviews\" data-toc-modified-id=\"Exercise-2:-Create-a-table-showing-the-20-listings-with-the-most-reviews-4.5.2\"><span class=\"toc-item-num\">4.5.2&nbsp;&nbsp;</span>Exercise 2: Create a table showing the 20 listings with the most reviews</a></span></li><li><span><a href=\"#Exercise-3:-Create-a-table-showing-all-of-the-reviews-for-listings-that-are-&quot;Bed-&amp;-Breakfast&quot;-property-types.\" data-toc-modified-id=\"Exercise-3:-Create-a-table-showing-all-of-the-reviews-for-listings-that-are-&quot;Bed-&amp;-Breakfast&quot;-property-types.-4.5.3\"><span class=\"toc-item-num\">4.5.3&nbsp;&nbsp;</span>Exercise 3: Create a table showing all of the reviews for listings that are \"Bed &amp; Breakfast\" property types.</a></span></li><li><span><a href=\"#Exercise-4:-Run-your-own-query-using-a-subquery-or-CTE.\" data-toc-modified-id=\"Exercise-4:-Run-your-own-query-using-a-subquery-or-CTE.-4.5.4\"><span class=\"toc-item-num\">4.5.4&nbsp;&nbsp;</span>Exercise 4: Run your own query using a subquery or CTE.</a></span></li></ul></li></ul></li></ul></div>"
   ]
  },
  {
   "cell_type": "code",
   "execution_count": 1,
   "metadata": {},
   "outputs": [],
   "source": [
    "import pandas as pd\n",
    "import sqlite3"
   ]
  },
  {
   "cell_type": "markdown",
   "metadata": {
    "heading_collapsed": true,
    "slideshow": {
     "slide_type": "slide"
    }
   },
   "source": [
    "# Objectives"
   ]
  },
  {
   "cell_type": "markdown",
   "metadata": {
    "hidden": true,
    "slideshow": {
     "slide_type": "slide"
    }
   },
   "source": [
    "- Use SQL subqueries to nest queries\n",
    "- Identify common SQL dialects and tools\n",
    "- Query data from web databases"
   ]
  },
  {
   "cell_type": "markdown",
   "metadata": {
    "heading_collapsed": true
   },
   "source": [
    "# SQL Subqueries"
   ]
  },
  {
   "cell_type": "markdown",
   "metadata": {
    "hidden": true
   },
   "source": [
    "Like you might nest one function within another in Python, you can nest queries in SQL. We can use a **subquery** within another query to succinctly implement queries that have multiple query steps."
   ]
  },
  {
   "cell_type": "code",
   "execution_count": 2,
   "metadata": {
    "hidden": true
   },
   "outputs": [],
   "source": [
    "conn = sqlite3.connect('data/flights.db')"
   ]
  },
  {
   "cell_type": "markdown",
   "metadata": {
    "heading_collapsed": true,
    "hidden": true
   },
   "source": [
    "## Subqueries in `FROM`"
   ]
  },
  {
   "cell_type": "markdown",
   "metadata": {
    "hidden": true
   },
   "source": [
    "You can use a subquery in the `FROM` clause - this is useful, for example, if you want to apply multiple aggregation functions.\n",
    "\n",
    "Let say we want to get the average of the number of routes departing from all airports. First we'd need to get the total number of routes departing from all airports, then take the average."
   ]
  },
  {
   "cell_type": "code",
   "execution_count": 4,
   "metadata": {},
   "outputs": [
    {
     "data": {
      "text/html": [
       "<div>\n",
       "<style scoped>\n",
       "    .dataframe tbody tr th:only-of-type {\n",
       "        vertical-align: middle;\n",
       "    }\n",
       "\n",
       "    .dataframe tbody tr th {\n",
       "        vertical-align: top;\n",
       "    }\n",
       "\n",
       "    .dataframe thead th {\n",
       "        text-align: right;\n",
       "    }\n",
       "</style>\n",
       "<table border=\"1\" class=\"dataframe\">\n",
       "  <thead>\n",
       "    <tr style=\"text-align: right;\">\n",
       "      <th></th>\n",
       "      <th>index</th>\n",
       "      <th>airline</th>\n",
       "      <th>airline_id</th>\n",
       "      <th>source</th>\n",
       "      <th>source_id</th>\n",
       "      <th>dest</th>\n",
       "      <th>dest_id</th>\n",
       "      <th>codeshare</th>\n",
       "      <th>stops</th>\n",
       "      <th>equipment</th>\n",
       "    </tr>\n",
       "  </thead>\n",
       "  <tbody>\n",
       "    <tr>\n",
       "      <th>0</th>\n",
       "      <td>0</td>\n",
       "      <td>2B</td>\n",
       "      <td>410</td>\n",
       "      <td>AER</td>\n",
       "      <td>2965</td>\n",
       "      <td>KZN</td>\n",
       "      <td>2990</td>\n",
       "      <td>None</td>\n",
       "      <td>0</td>\n",
       "      <td>CR2</td>\n",
       "    </tr>\n",
       "    <tr>\n",
       "      <th>1</th>\n",
       "      <td>1</td>\n",
       "      <td>2B</td>\n",
       "      <td>410</td>\n",
       "      <td>ASF</td>\n",
       "      <td>2966</td>\n",
       "      <td>KZN</td>\n",
       "      <td>2990</td>\n",
       "      <td>None</td>\n",
       "      <td>0</td>\n",
       "      <td>CR2</td>\n",
       "    </tr>\n",
       "    <tr>\n",
       "      <th>2</th>\n",
       "      <td>2</td>\n",
       "      <td>2B</td>\n",
       "      <td>410</td>\n",
       "      <td>ASF</td>\n",
       "      <td>2966</td>\n",
       "      <td>MRV</td>\n",
       "      <td>2962</td>\n",
       "      <td>None</td>\n",
       "      <td>0</td>\n",
       "      <td>CR2</td>\n",
       "    </tr>\n",
       "    <tr>\n",
       "      <th>3</th>\n",
       "      <td>3</td>\n",
       "      <td>2B</td>\n",
       "      <td>410</td>\n",
       "      <td>CEK</td>\n",
       "      <td>2968</td>\n",
       "      <td>KZN</td>\n",
       "      <td>2990</td>\n",
       "      <td>None</td>\n",
       "      <td>0</td>\n",
       "      <td>CR2</td>\n",
       "    </tr>\n",
       "    <tr>\n",
       "      <th>4</th>\n",
       "      <td>4</td>\n",
       "      <td>2B</td>\n",
       "      <td>410</td>\n",
       "      <td>CEK</td>\n",
       "      <td>2968</td>\n",
       "      <td>OVB</td>\n",
       "      <td>4078</td>\n",
       "      <td>None</td>\n",
       "      <td>0</td>\n",
       "      <td>CR2</td>\n",
       "    </tr>\n",
       "    <tr>\n",
       "      <th>...</th>\n",
       "      <td>...</td>\n",
       "      <td>...</td>\n",
       "      <td>...</td>\n",
       "      <td>...</td>\n",
       "      <td>...</td>\n",
       "      <td>...</td>\n",
       "      <td>...</td>\n",
       "      <td>...</td>\n",
       "      <td>...</td>\n",
       "      <td>...</td>\n",
       "    </tr>\n",
       "    <tr>\n",
       "      <th>67658</th>\n",
       "      <td>67658</td>\n",
       "      <td>ZL</td>\n",
       "      <td>4178</td>\n",
       "      <td>WYA</td>\n",
       "      <td>6334</td>\n",
       "      <td>ADL</td>\n",
       "      <td>3341</td>\n",
       "      <td>None</td>\n",
       "      <td>0</td>\n",
       "      <td>SF3</td>\n",
       "    </tr>\n",
       "    <tr>\n",
       "      <th>67659</th>\n",
       "      <td>67659</td>\n",
       "      <td>ZM</td>\n",
       "      <td>19016</td>\n",
       "      <td>DME</td>\n",
       "      <td>4029</td>\n",
       "      <td>FRU</td>\n",
       "      <td>2912</td>\n",
       "      <td>None</td>\n",
       "      <td>0</td>\n",
       "      <td>734</td>\n",
       "    </tr>\n",
       "    <tr>\n",
       "      <th>67660</th>\n",
       "      <td>67660</td>\n",
       "      <td>ZM</td>\n",
       "      <td>19016</td>\n",
       "      <td>FRU</td>\n",
       "      <td>2912</td>\n",
       "      <td>DME</td>\n",
       "      <td>4029</td>\n",
       "      <td>None</td>\n",
       "      <td>0</td>\n",
       "      <td>734</td>\n",
       "    </tr>\n",
       "    <tr>\n",
       "      <th>67661</th>\n",
       "      <td>67661</td>\n",
       "      <td>ZM</td>\n",
       "      <td>19016</td>\n",
       "      <td>FRU</td>\n",
       "      <td>2912</td>\n",
       "      <td>OSS</td>\n",
       "      <td>2913</td>\n",
       "      <td>None</td>\n",
       "      <td>0</td>\n",
       "      <td>734</td>\n",
       "    </tr>\n",
       "    <tr>\n",
       "      <th>67662</th>\n",
       "      <td>67662</td>\n",
       "      <td>ZM</td>\n",
       "      <td>19016</td>\n",
       "      <td>OSS</td>\n",
       "      <td>2913</td>\n",
       "      <td>FRU</td>\n",
       "      <td>2912</td>\n",
       "      <td>None</td>\n",
       "      <td>0</td>\n",
       "      <td>734</td>\n",
       "    </tr>\n",
       "  </tbody>\n",
       "</table>\n",
       "<p>67663 rows × 10 columns</p>\n",
       "</div>"
      ],
      "text/plain": [
       "       index airline airline_id source source_id dest dest_id codeshare stops  \\\n",
       "0          0      2B        410    AER      2965  KZN    2990      None     0   \n",
       "1          1      2B        410    ASF      2966  KZN    2990      None     0   \n",
       "2          2      2B        410    ASF      2966  MRV    2962      None     0   \n",
       "3          3      2B        410    CEK      2968  KZN    2990      None     0   \n",
       "4          4      2B        410    CEK      2968  OVB    4078      None     0   \n",
       "...      ...     ...        ...    ...       ...  ...     ...       ...   ...   \n",
       "67658  67658      ZL       4178    WYA      6334  ADL    3341      None     0   \n",
       "67659  67659      ZM      19016    DME      4029  FRU    2912      None     0   \n",
       "67660  67660      ZM      19016    FRU      2912  DME    4029      None     0   \n",
       "67661  67661      ZM      19016    FRU      2912  OSS    2913      None     0   \n",
       "67662  67662      ZM      19016    OSS      2913  FRU    2912      None     0   \n",
       "\n",
       "      equipment  \n",
       "0           CR2  \n",
       "1           CR2  \n",
       "2           CR2  \n",
       "3           CR2  \n",
       "4           CR2  \n",
       "...         ...  \n",
       "67658       SF3  \n",
       "67659       734  \n",
       "67660       734  \n",
       "67661       734  \n",
       "67662       734  \n",
       "\n",
       "[67663 rows x 10 columns]"
      ]
     },
     "execution_count": 4,
     "metadata": {},
     "output_type": "execute_result"
    }
   ],
   "source": [
    "pd.read_sql('''\n",
    "SELECT \n",
    "    *\n",
    "FROM\n",
    "    routes\n",
    "''', conn)"
   ]
  },
  {
   "cell_type": "code",
   "execution_count": 3,
   "metadata": {
    "hidden": true,
    "scrolled": true
   },
   "outputs": [
    {
     "data": {
      "text/html": [
       "<div>\n",
       "<style scoped>\n",
       "    .dataframe tbody tr th:only-of-type {\n",
       "        vertical-align: middle;\n",
       "    }\n",
       "\n",
       "    .dataframe tbody tr th {\n",
       "        vertical-align: top;\n",
       "    }\n",
       "\n",
       "    .dataframe thead th {\n",
       "        text-align: right;\n",
       "    }\n",
       "</style>\n",
       "<table border=\"1\" class=\"dataframe\">\n",
       "  <thead>\n",
       "    <tr style=\"text-align: right;\">\n",
       "      <th></th>\n",
       "      <th>depart_airport</th>\n",
       "      <th>number_of_departures</th>\n",
       "    </tr>\n",
       "  </thead>\n",
       "  <tbody>\n",
       "    <tr>\n",
       "      <th>0</th>\n",
       "      <td>AAE</td>\n",
       "      <td>9</td>\n",
       "    </tr>\n",
       "    <tr>\n",
       "      <th>1</th>\n",
       "      <td>AAL</td>\n",
       "      <td>20</td>\n",
       "    </tr>\n",
       "    <tr>\n",
       "      <th>2</th>\n",
       "      <td>AAN</td>\n",
       "      <td>2</td>\n",
       "    </tr>\n",
       "    <tr>\n",
       "      <th>3</th>\n",
       "      <td>AAQ</td>\n",
       "      <td>3</td>\n",
       "    </tr>\n",
       "    <tr>\n",
       "      <th>4</th>\n",
       "      <td>AAR</td>\n",
       "      <td>8</td>\n",
       "    </tr>\n",
       "    <tr>\n",
       "      <th>...</th>\n",
       "      <td>...</td>\n",
       "      <td>...</td>\n",
       "    </tr>\n",
       "    <tr>\n",
       "      <th>3404</th>\n",
       "      <td>ZUH</td>\n",
       "      <td>60</td>\n",
       "    </tr>\n",
       "    <tr>\n",
       "      <th>3405</th>\n",
       "      <td>ZUM</td>\n",
       "      <td>2</td>\n",
       "    </tr>\n",
       "    <tr>\n",
       "      <th>3406</th>\n",
       "      <td>ZVK</td>\n",
       "      <td>3</td>\n",
       "    </tr>\n",
       "    <tr>\n",
       "      <th>3407</th>\n",
       "      <td>ZYI</td>\n",
       "      <td>15</td>\n",
       "    </tr>\n",
       "    <tr>\n",
       "      <th>3408</th>\n",
       "      <td>ZYL</td>\n",
       "      <td>4</td>\n",
       "    </tr>\n",
       "  </tbody>\n",
       "</table>\n",
       "<p>3409 rows × 2 columns</p>\n",
       "</div>"
      ],
      "text/plain": [
       "     depart_airport  number_of_departures\n",
       "0               AAE                     9\n",
       "1               AAL                    20\n",
       "2               AAN                     2\n",
       "3               AAQ                     3\n",
       "4               AAR                     8\n",
       "...             ...                   ...\n",
       "3404            ZUH                    60\n",
       "3405            ZUM                     2\n",
       "3406            ZVK                     3\n",
       "3407            ZYI                    15\n",
       "3408            ZYL                     4\n",
       "\n",
       "[3409 rows x 2 columns]"
      ]
     },
     "execution_count": 3,
     "metadata": {},
     "output_type": "execute_result"
    }
   ],
   "source": [
    "pd.read_sql('''\n",
    "SELECT \n",
    "    source AS depart_airport\n",
    "    , COUNT() AS number_of_departures\n",
    "FROM\n",
    "    routes\n",
    "GROUP BY\n",
    "    source\n",
    "''', conn)"
   ]
  },
  {
   "cell_type": "markdown",
   "metadata": {
    "hidden": true
   },
   "source": [
    "We can use this query as a subquery, and take the average of the new `number_of_departures` column."
   ]
  },
  {
   "cell_type": "code",
   "execution_count": 5,
   "metadata": {
    "hidden": true,
    "scrolled": true
   },
   "outputs": [
    {
     "data": {
      "text/html": [
       "<div>\n",
       "<style scoped>\n",
       "    .dataframe tbody tr th:only-of-type {\n",
       "        vertical-align: middle;\n",
       "    }\n",
       "\n",
       "    .dataframe tbody tr th {\n",
       "        vertical-align: top;\n",
       "    }\n",
       "\n",
       "    .dataframe thead th {\n",
       "        text-align: right;\n",
       "    }\n",
       "</style>\n",
       "<table border=\"1\" class=\"dataframe\">\n",
       "  <thead>\n",
       "    <tr style=\"text-align: right;\">\n",
       "      <th></th>\n",
       "      <th>AVG(number_of_departures)</th>\n",
       "    </tr>\n",
       "  </thead>\n",
       "  <tbody>\n",
       "    <tr>\n",
       "      <th>0</th>\n",
       "      <td>19.848343</td>\n",
       "    </tr>\n",
       "  </tbody>\n",
       "</table>\n",
       "</div>"
      ],
      "text/plain": [
       "   AVG(number_of_departures)\n",
       "0                  19.848343"
      ]
     },
     "execution_count": 5,
     "metadata": {},
     "output_type": "execute_result"
    }
   ],
   "source": [
    "pd.read_sql('''\n",
    "SELECT\n",
    "    AVG(number_of_departures)\n",
    "FROM \n",
    "    (SELECT \n",
    "    source AS depart_airport\n",
    "    , COUNT() AS number_of_departures\n",
    "FROM\n",
    "    routes\n",
    "GROUP BY\n",
    "    source)\n",
    "''', conn)"
   ]
  },
  {
   "cell_type": "markdown",
   "metadata": {
    "heading_collapsed": true,
    "hidden": true
   },
   "source": [
    "## Note: Subqueries are Like New Tables!"
   ]
  },
  {
   "cell_type": "markdown",
   "metadata": {
    "hidden": true
   },
   "source": [
    "If you squint, you'll notice that the subquery is taking the place of where we might put a table!"
   ]
  },
  {
   "cell_type": "markdown",
   "metadata": {
    "hidden": true
   },
   "source": [
    "For example, checkout the SQL we wrote in our first subquery example:\n",
    "\n",
    "```sql\n",
    "SELECT \n",
    "    AVG(number_of_departures)\n",
    "FROM (\n",
    "    SELECT \n",
    "        source AS depart_airport\n",
    "        ,COUNT() AS number_of_departures\n",
    "    FROM\n",
    "        routes\n",
    "    GROUP BY\n",
    "        source\n",
    ")\n",
    "```"
   ]
  },
  {
   "cell_type": "markdown",
   "metadata": {
    "hidden": true
   },
   "source": [
    "We could imagine that some new table returned by the subquery existed (let's call it `airport_departures`) and can be placed in place of the subquery:\n",
    "\n",
    "```sql\n",
    "SELECT \n",
    "    AVG(number_of_departures)\n",
    "FROM (\n",
    "    airport_departures -- Replacing subquery with this hypothetical table\n",
    ") \n",
    "```"
   ]
  },
  {
   "cell_type": "markdown",
   "metadata": {
    "hidden": true
   },
   "source": [
    "You can actually use syntax close to this with **Common Table Expressions (CTEs)** found in the [Level Up section](#Level-Up:-Common-Table-Expressions) below."
   ]
  },
  {
   "cell_type": "markdown",
   "metadata": {
    "heading_collapsed": true,
    "hidden": true
   },
   "source": [
    "## Subqueries in `WHERE`"
   ]
  },
  {
   "cell_type": "markdown",
   "metadata": {
    "hidden": true
   },
   "source": [
    "You can use a subquery in the `WHERE` clause - this is useful, for example, if you want to filter a query based on results from another query.\n",
    "\n",
    "Let's say that we want to get a table with all of the departures and destinations for the flight routes, but I only want to include flights departing from the five countries with the most airports.\n",
    "\n",
    "To do this, we'd first need to identify the five countries that have the most airports. "
   ]
  },
  {
   "cell_type": "code",
   "execution_count": 10,
   "metadata": {
    "hidden": true
   },
   "outputs": [],
   "source": [
    "dataframe_with_top_5_countries = pd.read_sql('''\n",
    "SELECT \n",
    "    country \n",
    "    ,COUNT() AS number_of_airports_in_country\n",
    "FROM\n",
    "    airports\n",
    "GROUP BY\n",
    "    country\n",
    "ORDER BY\n",
    "    number_of_airports_in_country DESC\n",
    "LIMIT 5\n",
    "''', conn)"
   ]
  },
  {
   "cell_type": "code",
   "execution_count": 11,
   "metadata": {},
   "outputs": [
    {
     "data": {
      "text/html": [
       "<div>\n",
       "<style scoped>\n",
       "    .dataframe tbody tr th:only-of-type {\n",
       "        vertical-align: middle;\n",
       "    }\n",
       "\n",
       "    .dataframe tbody tr th {\n",
       "        vertical-align: top;\n",
       "    }\n",
       "\n",
       "    .dataframe thead th {\n",
       "        text-align: right;\n",
       "    }\n",
       "</style>\n",
       "<table border=\"1\" class=\"dataframe\">\n",
       "  <thead>\n",
       "    <tr style=\"text-align: right;\">\n",
       "      <th></th>\n",
       "      <th>country</th>\n",
       "      <th>number_of_airports_in_country</th>\n",
       "    </tr>\n",
       "  </thead>\n",
       "  <tbody>\n",
       "    <tr>\n",
       "      <th>0</th>\n",
       "      <td>United States</td>\n",
       "      <td>1697</td>\n",
       "    </tr>\n",
       "    <tr>\n",
       "      <th>1</th>\n",
       "      <td>Canada</td>\n",
       "      <td>435</td>\n",
       "    </tr>\n",
       "    <tr>\n",
       "      <th>2</th>\n",
       "      <td>Germany</td>\n",
       "      <td>321</td>\n",
       "    </tr>\n",
       "    <tr>\n",
       "      <th>3</th>\n",
       "      <td>Australia</td>\n",
       "      <td>263</td>\n",
       "    </tr>\n",
       "    <tr>\n",
       "      <th>4</th>\n",
       "      <td>Russia</td>\n",
       "      <td>249</td>\n",
       "    </tr>\n",
       "  </tbody>\n",
       "</table>\n",
       "</div>"
      ],
      "text/plain": [
       "         country  number_of_airports_in_country\n",
       "0  United States                           1697\n",
       "1         Canada                            435\n",
       "2        Germany                            321\n",
       "3      Australia                            263\n",
       "4         Russia                            249"
      ]
     },
     "execution_count": 11,
     "metadata": {},
     "output_type": "execute_result"
    }
   ],
   "source": [
    "dataframe_with_top_5_countries"
   ]
  },
  {
   "cell_type": "markdown",
   "metadata": {
    "hidden": true
   },
   "source": [
    "I could enter these results into a new query of the routes table to get the data I want."
   ]
  },
  {
   "cell_type": "code",
   "execution_count": 7,
   "metadata": {
    "hidden": true
   },
   "outputs": [
    {
     "data": {
      "text/html": [
       "<div>\n",
       "<style scoped>\n",
       "    .dataframe tbody tr th:only-of-type {\n",
       "        vertical-align: middle;\n",
       "    }\n",
       "\n",
       "    .dataframe tbody tr th {\n",
       "        vertical-align: top;\n",
       "    }\n",
       "\n",
       "    .dataframe thead th {\n",
       "        text-align: right;\n",
       "    }\n",
       "</style>\n",
       "<table border=\"1\" class=\"dataframe\">\n",
       "  <thead>\n",
       "    <tr style=\"text-align: right;\">\n",
       "      <th></th>\n",
       "      <th>depart_airport</th>\n",
       "      <th>destination_airport</th>\n",
       "      <th>depart_country</th>\n",
       "    </tr>\n",
       "  </thead>\n",
       "  <tbody>\n",
       "    <tr>\n",
       "      <th>0</th>\n",
       "      <td>DRW</td>\n",
       "      <td>SIN</td>\n",
       "      <td>Australia</td>\n",
       "    </tr>\n",
       "    <tr>\n",
       "      <th>1</th>\n",
       "      <td>PER</td>\n",
       "      <td>SIN</td>\n",
       "      <td>Australia</td>\n",
       "    </tr>\n",
       "    <tr>\n",
       "      <th>2</th>\n",
       "      <td>MEL</td>\n",
       "      <td>CTU</td>\n",
       "      <td>Australia</td>\n",
       "    </tr>\n",
       "    <tr>\n",
       "      <th>3</th>\n",
       "      <td>SYD</td>\n",
       "      <td>CKG</td>\n",
       "      <td>Australia</td>\n",
       "    </tr>\n",
       "    <tr>\n",
       "      <th>4</th>\n",
       "      <td>ADL</td>\n",
       "      <td>BNE</td>\n",
       "      <td>Australia</td>\n",
       "    </tr>\n",
       "    <tr>\n",
       "      <th>...</th>\n",
       "      <td>...</td>\n",
       "      <td>...</td>\n",
       "      <td>...</td>\n",
       "    </tr>\n",
       "    <tr>\n",
       "      <th>20330</th>\n",
       "      <td>SOW</td>\n",
       "      <td>FMN</td>\n",
       "      <td>United States</td>\n",
       "    </tr>\n",
       "    <tr>\n",
       "      <th>20331</th>\n",
       "      <td>SOW</td>\n",
       "      <td>PHX</td>\n",
       "      <td>United States</td>\n",
       "    </tr>\n",
       "    <tr>\n",
       "      <th>20332</th>\n",
       "      <td>SVC</td>\n",
       "      <td>PHX</td>\n",
       "      <td>United States</td>\n",
       "    </tr>\n",
       "    <tr>\n",
       "      <th>20333</th>\n",
       "      <td>VIS</td>\n",
       "      <td>LAX</td>\n",
       "      <td>United States</td>\n",
       "    </tr>\n",
       "    <tr>\n",
       "      <th>20334</th>\n",
       "      <td>WRL</td>\n",
       "      <td>CYS</td>\n",
       "      <td>United States</td>\n",
       "    </tr>\n",
       "  </tbody>\n",
       "</table>\n",
       "<p>20335 rows × 3 columns</p>\n",
       "</div>"
      ],
      "text/plain": [
       "      depart_airport destination_airport depart_country\n",
       "0                DRW                 SIN      Australia\n",
       "1                PER                 SIN      Australia\n",
       "2                MEL                 CTU      Australia\n",
       "3                SYD                 CKG      Australia\n",
       "4                ADL                 BNE      Australia\n",
       "...              ...                 ...            ...\n",
       "20330            SOW                 FMN  United States\n",
       "20331            SOW                 PHX  United States\n",
       "20332            SVC                 PHX  United States\n",
       "20333            VIS                 LAX  United States\n",
       "20334            WRL                 CYS  United States\n",
       "\n",
       "[20335 rows x 3 columns]"
      ]
     },
     "execution_count": 7,
     "metadata": {},
     "output_type": "execute_result"
    }
   ],
   "source": [
    "pd.read_sql('''\n",
    "SELECT \n",
    "    rt.source AS depart_airport\n",
    "    ,rt.dest AS destination_airport\n",
    "    ,ap.country AS depart_country\n",
    "FROM\n",
    "    routes AS rt\n",
    "    LEFT JOIN airports AS ap\n",
    "        ON rt.source_id = ap.id\n",
    "WHERE \n",
    "    ap.country IN (\n",
    "        \"United States\", \n",
    "        \"Canada\", \n",
    "        \"Germany\", \n",
    "        \"Australia\", \n",
    "        \"Russia\"\n",
    "    )\n",
    "ORDER BY \n",
    "    depart_country\n",
    "''', conn)"
   ]
  },
  {
   "cell_type": "markdown",
   "metadata": {
    "hidden": true
   },
   "source": [
    "This approach works but has a few limitations:\n",
    "\n",
    "- We have to manually enter the countries to filter them\n",
    "- The list of countries won't update with our data, so we'd have to monitor and manually change them in the future\n",
    "- We have to look at two separate queries to understand what our code is supposed to do\n",
    "- We have to run two separate queries, which might take longer than one combined query\n",
    "\n",
    "A better solution uses a subquery to get the list of 5 countries and feed it into our WHERE clause."
   ]
  },
  {
   "cell_type": "code",
   "execution_count": 8,
   "metadata": {
    "hidden": true
   },
   "outputs": [
    {
     "data": {
      "text/html": [
       "<div>\n",
       "<style scoped>\n",
       "    .dataframe tbody tr th:only-of-type {\n",
       "        vertical-align: middle;\n",
       "    }\n",
       "\n",
       "    .dataframe tbody tr th {\n",
       "        vertical-align: top;\n",
       "    }\n",
       "\n",
       "    .dataframe thead th {\n",
       "        text-align: right;\n",
       "    }\n",
       "</style>\n",
       "<table border=\"1\" class=\"dataframe\">\n",
       "  <thead>\n",
       "    <tr style=\"text-align: right;\">\n",
       "      <th></th>\n",
       "      <th>depart_airport</th>\n",
       "      <th>destination_airport</th>\n",
       "      <th>depart_country</th>\n",
       "    </tr>\n",
       "  </thead>\n",
       "  <tbody>\n",
       "    <tr>\n",
       "      <th>0</th>\n",
       "      <td>DRW</td>\n",
       "      <td>SIN</td>\n",
       "      <td>Australia</td>\n",
       "    </tr>\n",
       "    <tr>\n",
       "      <th>1</th>\n",
       "      <td>PER</td>\n",
       "      <td>SIN</td>\n",
       "      <td>Australia</td>\n",
       "    </tr>\n",
       "    <tr>\n",
       "      <th>2</th>\n",
       "      <td>MEL</td>\n",
       "      <td>CTU</td>\n",
       "      <td>Australia</td>\n",
       "    </tr>\n",
       "    <tr>\n",
       "      <th>3</th>\n",
       "      <td>SYD</td>\n",
       "      <td>CKG</td>\n",
       "      <td>Australia</td>\n",
       "    </tr>\n",
       "    <tr>\n",
       "      <th>4</th>\n",
       "      <td>ADL</td>\n",
       "      <td>BNE</td>\n",
       "      <td>Australia</td>\n",
       "    </tr>\n",
       "    <tr>\n",
       "      <th>...</th>\n",
       "      <td>...</td>\n",
       "      <td>...</td>\n",
       "      <td>...</td>\n",
       "    </tr>\n",
       "    <tr>\n",
       "      <th>20330</th>\n",
       "      <td>SOW</td>\n",
       "      <td>FMN</td>\n",
       "      <td>United States</td>\n",
       "    </tr>\n",
       "    <tr>\n",
       "      <th>20331</th>\n",
       "      <td>SOW</td>\n",
       "      <td>PHX</td>\n",
       "      <td>United States</td>\n",
       "    </tr>\n",
       "    <tr>\n",
       "      <th>20332</th>\n",
       "      <td>SVC</td>\n",
       "      <td>PHX</td>\n",
       "      <td>United States</td>\n",
       "    </tr>\n",
       "    <tr>\n",
       "      <th>20333</th>\n",
       "      <td>VIS</td>\n",
       "      <td>LAX</td>\n",
       "      <td>United States</td>\n",
       "    </tr>\n",
       "    <tr>\n",
       "      <th>20334</th>\n",
       "      <td>WRL</td>\n",
       "      <td>CYS</td>\n",
       "      <td>United States</td>\n",
       "    </tr>\n",
       "  </tbody>\n",
       "</table>\n",
       "<p>20335 rows × 3 columns</p>\n",
       "</div>"
      ],
      "text/plain": [
       "      depart_airport destination_airport depart_country\n",
       "0                DRW                 SIN      Australia\n",
       "1                PER                 SIN      Australia\n",
       "2                MEL                 CTU      Australia\n",
       "3                SYD                 CKG      Australia\n",
       "4                ADL                 BNE      Australia\n",
       "...              ...                 ...            ...\n",
       "20330            SOW                 FMN  United States\n",
       "20331            SOW                 PHX  United States\n",
       "20332            SVC                 PHX  United States\n",
       "20333            VIS                 LAX  United States\n",
       "20334            WRL                 CYS  United States\n",
       "\n",
       "[20335 rows x 3 columns]"
      ]
     },
     "execution_count": 8,
     "metadata": {},
     "output_type": "execute_result"
    }
   ],
   "source": [
    "pd.read_sql('''\n",
    "SELECT \n",
    "    rt.source AS depart_airport\n",
    "    ,rt.dest AS destination_airport\n",
    "    ,ap.country AS depart_country\n",
    "FROM\n",
    "    routes AS rt\n",
    "    LEFT JOIN airports AS ap\n",
    "        ON rt.source_id = ap.id\n",
    "WHERE ap.country IN (\n",
    "-- Subquery to get the 5 countries with the most airports\n",
    "    SELECT \n",
    "        country \n",
    "    FROM \n",
    "        airports\n",
    "    GROUP BY \n",
    "        country\n",
    "    ORDER BY \n",
    "        COUNT() DESC\n",
    "    LIMIT 5\n",
    ")\n",
    "\n",
    "ORDER BY\n",
    "    depart_country\n",
    "''', conn) "
   ]
  },
  {
   "cell_type": "markdown",
   "metadata": {
    "heading_collapsed": true,
    "hidden": true
   },
   "source": [
    "## Level Up: Common Table Expressions"
   ]
  },
  {
   "cell_type": "markdown",
   "metadata": {
    "hidden": true
   },
   "source": [
    "Common Table Expressions (CTEs) are a more readable way to implement subqueries, using `WITH` and `AS`."
   ]
  },
  {
   "cell_type": "code",
   "execution_count": null,
   "metadata": {
    "hidden": true
   },
   "outputs": [],
   "source": [
    "pd.read_sql('''\n",
    "WITH top_5_countries AS (\n",
    "    SELECT \n",
    "        country \n",
    "    FROM \n",
    "        airports\n",
    "    GROUP BY \n",
    "        country\n",
    "    ORDER BY \n",
    "        COUNT() DESC\n",
    "    LIMIT 5\n",
    ") \n",
    "\n",
    "SELECT \n",
    "    rt.source AS depart_airport\n",
    "    ,rt.dest AS destination_airport\n",
    "    ,ap.country AS depart_country\n",
    "FROM\n",
    "    routes AS rt\n",
    "    LEFT JOIN airports AS ap\n",
    "        ON rt.source_id = ap.id\n",
    "WHERE \n",
    "    ap.country IN top_5_countries\n",
    "ORDER BY \n",
    "    depart_country\n",
    "''', conn)"
   ]
  },
  {
   "cell_type": "markdown",
   "metadata": {
    "heading_collapsed": true,
    "hidden": true
   },
   "source": [
    "### Exercise"
   ]
  },
  {
   "cell_type": "markdown",
   "metadata": {
    "hidden": true
   },
   "source": [
    "Create a table listing all airlines that serve the three airports with the most outbound routes."
   ]
  },
  {
   "cell_type": "code",
   "execution_count": 13,
   "metadata": {},
   "outputs": [
    {
     "data": {
      "text/html": [
       "<div>\n",
       "<style scoped>\n",
       "    .dataframe tbody tr th:only-of-type {\n",
       "        vertical-align: middle;\n",
       "    }\n",
       "\n",
       "    .dataframe tbody tr th {\n",
       "        vertical-align: top;\n",
       "    }\n",
       "\n",
       "    .dataframe thead th {\n",
       "        text-align: right;\n",
       "    }\n",
       "</style>\n",
       "<table border=\"1\" class=\"dataframe\">\n",
       "  <thead>\n",
       "    <tr style=\"text-align: right;\">\n",
       "      <th></th>\n",
       "      <th>id</th>\n",
       "      <th>name</th>\n",
       "      <th>COUNT()</th>\n",
       "    </tr>\n",
       "  </thead>\n",
       "  <tbody>\n",
       "    <tr>\n",
       "      <th>0</th>\n",
       "      <td>3682</td>\n",
       "      <td>Hartsfield Jackson Atlanta Intl</td>\n",
       "      <td>915</td>\n",
       "    </tr>\n",
       "    <tr>\n",
       "      <th>1</th>\n",
       "      <td>3830</td>\n",
       "      <td>Chicago Ohare Intl</td>\n",
       "      <td>558</td>\n",
       "    </tr>\n",
       "    <tr>\n",
       "      <th>2</th>\n",
       "      <td>3364</td>\n",
       "      <td>Capital Intl</td>\n",
       "      <td>535</td>\n",
       "    </tr>\n",
       "  </tbody>\n",
       "</table>\n",
       "</div>"
      ],
      "text/plain": [
       "     id                             name  COUNT()\n",
       "0  3682  Hartsfield Jackson Atlanta Intl      915\n",
       "1  3830               Chicago Ohare Intl      558\n",
       "2  3364                     Capital Intl      535"
      ]
     },
     "execution_count": 13,
     "metadata": {},
     "output_type": "execute_result"
    }
   ],
   "source": [
    "pd.read_sql('''\n",
    "SELECT\n",
    "           airports.id,\n",
    "           airports.name,\n",
    "           COUNT()\n",
    "       FROM\n",
    "           airports\n",
    "           LEFT JOIN routes\n",
    "           ON airports.id = routes.source_id\n",
    "        \n",
    "        GROUP BY\n",
    "            airports.id\n",
    "            \n",
    "        ORDER BY\n",
    "            COUNT() DESC\n",
    "        LIMIT 3\n",
    "''', conn)"
   ]
  },
  {
   "cell_type": "code",
   "execution_count": 17,
   "metadata": {
    "hidden": true
   },
   "outputs": [
    {
     "data": {
      "text/html": [
       "<div>\n",
       "<style scoped>\n",
       "    .dataframe tbody tr th:only-of-type {\n",
       "        vertical-align: middle;\n",
       "    }\n",
       "\n",
       "    .dataframe tbody tr th {\n",
       "        vertical-align: top;\n",
       "    }\n",
       "\n",
       "    .dataframe thead th {\n",
       "        text-align: right;\n",
       "    }\n",
       "</style>\n",
       "<table border=\"1\" class=\"dataframe\">\n",
       "  <thead>\n",
       "    <tr style=\"text-align: right;\">\n",
       "      <th></th>\n",
       "      <th>airline</th>\n",
       "    </tr>\n",
       "  </thead>\n",
       "  <tbody>\n",
       "    <tr>\n",
       "      <th>0</th>\n",
       "      <td>3E</td>\n",
       "    </tr>\n",
       "    <tr>\n",
       "      <th>1</th>\n",
       "      <td>3M</td>\n",
       "    </tr>\n",
       "    <tr>\n",
       "      <th>2</th>\n",
       "      <td>3U</td>\n",
       "    </tr>\n",
       "    <tr>\n",
       "      <th>3</th>\n",
       "      <td>5J</td>\n",
       "    </tr>\n",
       "    <tr>\n",
       "      <th>4</th>\n",
       "      <td>8L</td>\n",
       "    </tr>\n",
       "    <tr>\n",
       "      <th>...</th>\n",
       "      <td>...</td>\n",
       "    </tr>\n",
       "    <tr>\n",
       "      <th>97</th>\n",
       "      <td>WN</td>\n",
       "    </tr>\n",
       "    <tr>\n",
       "      <th>98</th>\n",
       "      <td>WS</td>\n",
       "    </tr>\n",
       "    <tr>\n",
       "      <th>99</th>\n",
       "      <td>Y4</td>\n",
       "    </tr>\n",
       "    <tr>\n",
       "      <th>100</th>\n",
       "      <td>Y7</td>\n",
       "    </tr>\n",
       "    <tr>\n",
       "      <th>101</th>\n",
       "      <td>ZH</td>\n",
       "    </tr>\n",
       "  </tbody>\n",
       "</table>\n",
       "<p>102 rows × 1 columns</p>\n",
       "</div>"
      ],
      "text/plain": [
       "    airline\n",
       "0        3E\n",
       "1        3M\n",
       "2        3U\n",
       "3        5J\n",
       "4        8L\n",
       "..      ...\n",
       "97       WN\n",
       "98       WS\n",
       "99       Y4\n",
       "100      Y7\n",
       "101      ZH\n",
       "\n",
       "[102 rows x 1 columns]"
      ]
     },
     "execution_count": 17,
     "metadata": {},
     "output_type": "execute_result"
    }
   ],
   "source": [
    "## Your work here\n",
    "pd.read_sql('''\n",
    "    \n",
    "    WITH top_3_airports AS (\n",
    "       SELECT\n",
    "           airports.id\n",
    "       FROM\n",
    "           airports\n",
    "           LEFT JOIN routes\n",
    "           ON airports.id = routes.source_id\n",
    "        \n",
    "        GROUP BY\n",
    "            airports.id\n",
    "            \n",
    "        ORDER BY\n",
    "            COUNT() DESC\n",
    "        LIMIT 3\n",
    "    )\n",
    "    \n",
    "    SELECT\n",
    "        DISTINCT routes.airline_id\n",
    "    FROM\n",
    "        routes\n",
    "    WHERE\n",
    "        routes.source_id IN top_3_airports\n",
    "\n",
    "''', conn)"
   ]
  },
  {
   "cell_type": "code",
   "execution_count": 20,
   "metadata": {},
   "outputs": [
    {
     "data": {
      "text/html": [
       "<div>\n",
       "<style scoped>\n",
       "    .dataframe tbody tr th:only-of-type {\n",
       "        vertical-align: middle;\n",
       "    }\n",
       "\n",
       "    .dataframe tbody tr th {\n",
       "        vertical-align: top;\n",
       "    }\n",
       "\n",
       "    .dataframe thead th {\n",
       "        text-align: right;\n",
       "    }\n",
       "</style>\n",
       "<table border=\"1\" class=\"dataframe\">\n",
       "  <thead>\n",
       "    <tr style=\"text-align: right;\">\n",
       "      <th></th>\n",
       "      <th>index</th>\n",
       "      <th>id</th>\n",
       "      <th>name</th>\n",
       "      <th>alias</th>\n",
       "      <th>iata</th>\n",
       "      <th>icao</th>\n",
       "      <th>callsign</th>\n",
       "      <th>country</th>\n",
       "      <th>active</th>\n",
       "    </tr>\n",
       "  </thead>\n",
       "  <tbody>\n",
       "    <tr>\n",
       "      <th>0</th>\n",
       "      <td>0</td>\n",
       "      <td>1</td>\n",
       "      <td>Private flight</td>\n",
       "      <td>\\N</td>\n",
       "      <td>-</td>\n",
       "      <td>None</td>\n",
       "      <td>None</td>\n",
       "      <td>None</td>\n",
       "      <td>Y</td>\n",
       "    </tr>\n",
       "    <tr>\n",
       "      <th>1</th>\n",
       "      <td>1</td>\n",
       "      <td>2</td>\n",
       "      <td>135 Airways</td>\n",
       "      <td>\\N</td>\n",
       "      <td>None</td>\n",
       "      <td>GNL</td>\n",
       "      <td>GENERAL</td>\n",
       "      <td>United States</td>\n",
       "      <td>N</td>\n",
       "    </tr>\n",
       "    <tr>\n",
       "      <th>2</th>\n",
       "      <td>2</td>\n",
       "      <td>3</td>\n",
       "      <td>1Time Airline</td>\n",
       "      <td>\\N</td>\n",
       "      <td>1T</td>\n",
       "      <td>RNX</td>\n",
       "      <td>NEXTIME</td>\n",
       "      <td>South Africa</td>\n",
       "      <td>Y</td>\n",
       "    </tr>\n",
       "    <tr>\n",
       "      <th>3</th>\n",
       "      <td>3</td>\n",
       "      <td>4</td>\n",
       "      <td>2 Sqn No 1 Elementary Flying Training School</td>\n",
       "      <td>\\N</td>\n",
       "      <td>None</td>\n",
       "      <td>WYT</td>\n",
       "      <td>None</td>\n",
       "      <td>United Kingdom</td>\n",
       "      <td>N</td>\n",
       "    </tr>\n",
       "    <tr>\n",
       "      <th>4</th>\n",
       "      <td>4</td>\n",
       "      <td>5</td>\n",
       "      <td>213 Flight Unit</td>\n",
       "      <td>\\N</td>\n",
       "      <td>None</td>\n",
       "      <td>TFU</td>\n",
       "      <td>None</td>\n",
       "      <td>Russia</td>\n",
       "      <td>N</td>\n",
       "    </tr>\n",
       "    <tr>\n",
       "      <th>...</th>\n",
       "      <td>...</td>\n",
       "      <td>...</td>\n",
       "      <td>...</td>\n",
       "      <td>...</td>\n",
       "      <td>...</td>\n",
       "      <td>...</td>\n",
       "      <td>...</td>\n",
       "      <td>...</td>\n",
       "      <td>...</td>\n",
       "    </tr>\n",
       "    <tr>\n",
       "      <th>6043</th>\n",
       "      <td>6043</td>\n",
       "      <td>19828</td>\n",
       "      <td>Vuela Cuba</td>\n",
       "      <td>Vuela Cuba</td>\n",
       "      <td>6C</td>\n",
       "      <td>6CC</td>\n",
       "      <td>None</td>\n",
       "      <td>Cuba</td>\n",
       "      <td>Y</td>\n",
       "    </tr>\n",
       "    <tr>\n",
       "      <th>6044</th>\n",
       "      <td>6044</td>\n",
       "      <td>19830</td>\n",
       "      <td>All Australia</td>\n",
       "      <td>All Australia</td>\n",
       "      <td>88</td>\n",
       "      <td>8K8</td>\n",
       "      <td>None</td>\n",
       "      <td>Australia</td>\n",
       "      <td>Y</td>\n",
       "    </tr>\n",
       "    <tr>\n",
       "      <th>6045</th>\n",
       "      <td>6045</td>\n",
       "      <td>19831</td>\n",
       "      <td>Fly Europa</td>\n",
       "      <td>None</td>\n",
       "      <td>ER</td>\n",
       "      <td>RWW</td>\n",
       "      <td>None</td>\n",
       "      <td>Spain</td>\n",
       "      <td>Y</td>\n",
       "    </tr>\n",
       "    <tr>\n",
       "      <th>6046</th>\n",
       "      <td>6046</td>\n",
       "      <td>19834</td>\n",
       "      <td>FlyPortugal</td>\n",
       "      <td>None</td>\n",
       "      <td>PO</td>\n",
       "      <td>FPT</td>\n",
       "      <td>FlyPortugal</td>\n",
       "      <td>Portugal</td>\n",
       "      <td>Y</td>\n",
       "    </tr>\n",
       "    <tr>\n",
       "      <th>6047</th>\n",
       "      <td>6047</td>\n",
       "      <td>19845</td>\n",
       "      <td>FTI Fluggesellschaft</td>\n",
       "      <td>None</td>\n",
       "      <td>None</td>\n",
       "      <td>FTI</td>\n",
       "      <td>None</td>\n",
       "      <td>Germany</td>\n",
       "      <td>N</td>\n",
       "    </tr>\n",
       "  </tbody>\n",
       "</table>\n",
       "<p>6048 rows × 9 columns</p>\n",
       "</div>"
      ],
      "text/plain": [
       "      index     id                                          name  \\\n",
       "0         0      1                                Private flight   \n",
       "1         1      2                                   135 Airways   \n",
       "2         2      3                                 1Time Airline   \n",
       "3         3      4  2 Sqn No 1 Elementary Flying Training School   \n",
       "4         4      5                               213 Flight Unit   \n",
       "...     ...    ...                                           ...   \n",
       "6043   6043  19828                                    Vuela Cuba   \n",
       "6044   6044  19830                                 All Australia   \n",
       "6045   6045  19831                                    Fly Europa   \n",
       "6046   6046  19834                                   FlyPortugal   \n",
       "6047   6047  19845                          FTI Fluggesellschaft   \n",
       "\n",
       "              alias  iata  icao     callsign         country active  \n",
       "0                \\N     -  None         None            None      Y  \n",
       "1                \\N  None   GNL      GENERAL   United States      N  \n",
       "2                \\N    1T   RNX      NEXTIME    South Africa      Y  \n",
       "3                \\N  None   WYT         None  United Kingdom      N  \n",
       "4                \\N  None   TFU         None          Russia      N  \n",
       "...             ...   ...   ...          ...             ...    ...  \n",
       "6043     Vuela Cuba    6C   6CC         None            Cuba      Y  \n",
       "6044  All Australia    88   8K8         None       Australia      Y  \n",
       "6045           None    ER   RWW         None           Spain      Y  \n",
       "6046           None    PO   FPT  FlyPortugal        Portugal      Y  \n",
       "6047           None  None   FTI         None         Germany      N  \n",
       "\n",
       "[6048 rows x 9 columns]"
      ]
     },
     "execution_count": 20,
     "metadata": {},
     "output_type": "execute_result"
    }
   ],
   "source": [
    "pd.read_sql('''\n",
    "    SELECT\n",
    "        *\n",
    "    FROM\n",
    "        airlines\n",
    "        \n",
    "''', conn)"
   ]
  },
  {
   "cell_type": "markdown",
   "metadata": {
    "hidden": true
   },
   "source": [
    "<p>\n",
    "</p>\n",
    "<details>\n",
    "    <summary><b><u>Click Here for Answer Code</u></b></summary>\n",
    "\n",
    "```sql\n",
    "WITH top_3_airports AS (\n",
    "    SELECT \n",
    "        airports.id \n",
    "    FROM \n",
    "        airports \n",
    "        LEFT JOIN routes\n",
    "            ON routes.source_id = airports.id\n",
    "    GROUP BY\n",
    "        airports.id\n",
    "    ORDER BY \n",
    "        COUNT() DESC\n",
    "    LIMIT 3\n",
    ") \n",
    "\n",
    "SELECT DISTINCT\n",
    "    rt.airline\n",
    "FROM\n",
    "    routes AS rt\n",
    "    LEFT JOIN airports AS ap\n",
    "        ON rt.source_id = ap.id\n",
    "WHERE \n",
    "    rt.source_id IN top_3_airports\n",
    "```\n",
    "</details>"
   ]
  },
  {
   "cell_type": "markdown",
   "metadata": {
    "heading_collapsed": true
   },
   "source": [
    "# SQL Versions"
   ]
  },
  {
   "cell_type": "markdown",
   "metadata": {
    "hidden": true
   },
   "source": [
    "There is no one version of SQL - there are many versions out there! What you're learning about SQL with SQLite will apply to all of them. Just keep in mind when you apply for jobs that you may see any of these listed in any given job posting, and they are all just different versions of what you know."
   ]
  },
  {
   "cell_type": "markdown",
   "metadata": {
    "heading_collapsed": true,
    "hidden": true
   },
   "source": [
    "## SQL Dialects"
   ]
  },
  {
   "cell_type": "markdown",
   "metadata": {
    "hidden": true
   },
   "source": [
    "As with dialects of spoken languages, SQL dialects have many commonalities but some differences in syntax and functionality.  Here are a few of the major players:\n",
    "\n",
    "- SQLite (we've already seen this!)\n",
    "- PostgreSQL (free and open-source!)\n",
    "- Oracle SQL\n",
    "- MySQL (half open-souce, half Oracle)\n",
    "- Microsoft SQL Server\n",
    "- Transact-SQL (extends MS SQL)"
   ]
  },
  {
   "cell_type": "markdown",
   "metadata": {
    "heading_collapsed": true,
    "hidden": true
   },
   "source": [
    "## SQLite Pros & Cons"
   ]
  },
  {
   "cell_type": "markdown",
   "metadata": {
    "hidden": true
   },
   "source": [
    "We use SQLite in this course, but it has some limitations."
   ]
  },
  {
   "cell_type": "markdown",
   "metadata": {
    "heading_collapsed": true,
    "hidden": true
   },
   "source": [
    "### Pros"
   ]
  },
  {
   "cell_type": "markdown",
   "metadata": {
    "hidden": true
   },
   "source": [
    "- Easy to set up\n",
    "- Easy to share database files\n",
    "- Uses little memory"
   ]
  },
  {
   "cell_type": "markdown",
   "metadata": {
    "heading_collapsed": true,
    "hidden": true
   },
   "source": [
    "### Cons"
   ]
  },
  {
   "cell_type": "markdown",
   "metadata": {
    "hidden": true
   },
   "source": [
    "- Limited functionality for managing users and access permissions\n",
    "- Not \"thread safe\": two edits at the same time can mess up your data"
   ]
  },
  {
   "cell_type": "markdown",
   "metadata": {
    "heading_collapsed": true,
    "hidden": true
   },
   "source": [
    "## Extra Resources: SQL Versions"
   ]
  },
  {
   "cell_type": "markdown",
   "metadata": {
    "hidden": true
   },
   "source": [
    "[What Is a SQL Dialect, and Which one Should You Learn?](https://learnsql.com/blog/what-sql-dialect-to-learn/)\n",
    "\n",
    "[SQLite vs MySQL vs PostgreSQL](https://www.digitalocean.com/community/tutorials/sqlite-vs-mysql-vs-postgresql-a-comparison-of-relational-database-management-systems)\n",
    "\n",
    "[SQL Dialect Reference](https://en.wikibooks.org/wiki/SQL_Dialects_Reference)"
   ]
  },
  {
   "cell_type": "markdown",
   "metadata": {},
   "source": [
    "# SQL Injections"
   ]
  },
  {
   "cell_type": "code",
   "execution_count": 27,
   "metadata": {},
   "outputs": [
    {
     "name": "stdout",
     "output_type": "stream",
     "text": [
      "Please enter in country of interest: ; DROP TABLE airports;\n"
     ]
    }
   ],
   "source": [
    "#Let's talk about SQL Injections\n",
    "country_of_interest = input(\"Please enter in country of interest: \")"
   ]
  },
  {
   "cell_type": "code",
   "execution_count": 22,
   "metadata": {},
   "outputs": [],
   "source": [
    "cursor = conn.cursor()"
   ]
  },
  {
   "cell_type": "code",
   "execution_count": 24,
   "metadata": {},
   "outputs": [
    {
     "data": {
      "text/plain": [
       "\"\\n    SELECT\\n        *\\n    FROM\\n        airports\\n    WHERE\\n        country = 'Canada'\""
      ]
     },
     "execution_count": 24,
     "metadata": {},
     "output_type": "execute_result"
    }
   ],
   "source": [
    "\"\"\"\n",
    "    SELECT\n",
    "        *\n",
    "    FROM\n",
    "        airports\n",
    "    WHERE\n",
    "        country = '\"\"\" + country_of_interest + \"'\""
   ]
  },
  {
   "cell_type": "code",
   "execution_count": 32,
   "metadata": {},
   "outputs": [],
   "source": [
    "country_of_interest = \"Canada\""
   ]
  },
  {
   "cell_type": "code",
   "execution_count": 29,
   "metadata": {},
   "outputs": [
    {
     "data": {
      "text/plain": [
       "<sqlite3.Cursor at 0x7fcaa103d500>"
      ]
     },
     "execution_count": 29,
     "metadata": {},
     "output_type": "execute_result"
    }
   ],
   "source": [
    "cursor.execute(\"\"\"\n",
    "    SELECT\n",
    "        *\n",
    "    FROM\n",
    "        airports\n",
    "    WHERE\n",
    "        country = '\"\"\" + country_of_interest + \"'\"\n",
    ")"
   ]
  },
  {
   "cell_type": "code",
   "execution_count": 30,
   "metadata": {},
   "outputs": [],
   "source": [
    "cursor.fetchone()"
   ]
  },
  {
   "cell_type": "code",
   "execution_count": 33,
   "metadata": {},
   "outputs": [
    {
     "data": {
      "text/plain": [
       "<sqlite3.Cursor at 0x7fcaa103d500>"
      ]
     },
     "execution_count": 33,
     "metadata": {},
     "output_type": "execute_result"
    }
   ],
   "source": [
    "cursor.execute(\"\"\"\n",
    "    SELECT\n",
    "        *\n",
    "    FROM\n",
    "        airports\n",
    "    WHERE\n",
    "        country = ?\n",
    "\"\"\", [country_of_interest]\n",
    ")"
   ]
  },
  {
   "cell_type": "code",
   "execution_count": 34,
   "metadata": {},
   "outputs": [
    {
     "data": {
      "text/plain": [
       "(20,\n",
       " '21',\n",
       " 'Sault Ste Marie',\n",
       " 'Sault Sainte Marie',\n",
       " 'Canada',\n",
       " 'YAM',\n",
       " 'CYAM',\n",
       " '46.485001',\n",
       " '-84.509445',\n",
       " '630',\n",
       " '-5',\n",
       " 'A',\n",
       " 'America/Toronto')"
      ]
     },
     "execution_count": 34,
     "metadata": {},
     "output_type": "execute_result"
    }
   ],
   "source": [
    "cursor.fetchone()"
   ]
  },
  {
   "cell_type": "code",
   "execution_count": null,
   "metadata": {},
   "outputs": [],
   "source": [
    "def read_query(query, param_list=()):\n",
    "    cursor = conn.cursor()\n",
    "    try:\n",
    "        if param_list:\n",
    "            cursor.execute(query, param_list)\n",
    "        else:\n",
    "            cursor.execute(query)\n",
    "            \n",
    "        try:\n",
    "            names = [x[0].lower() for x in cursor.description]\n",
    "            rows = cursor.fetchall()\n",
    "            return pd.DataFrame(rows, columns=names)"
   ]
  },
  {
   "cell_type": "markdown",
   "metadata": {
    "heading_collapsed": true
   },
   "source": [
    "# Web Databases: data.world"
   ]
  },
  {
   "cell_type": "markdown",
   "metadata": {
    "hidden": true
   },
   "source": [
    "For the rest of this lesson, we'll be exploring databases in [data.world](https://data.world/), a web database that we can query using SQL in our browser. For reference, you can see the instructions for creating a new project here: [Getting Started Working with Data at data.world](https://docs.data.world/en/64499-94893-Work-with-data--Projects.html)"
   ]
  },
  {
   "cell_type": "markdown",
   "metadata": {
    "heading_collapsed": true,
    "hidden": true
   },
   "source": [
    "## Step 1: Create a data.world account"
   ]
  },
  {
   "cell_type": "markdown",
   "metadata": {
    "hidden": true
   },
   "source": [
    "You will need to enter and verify your email address."
   ]
  },
  {
   "cell_type": "markdown",
   "metadata": {
    "heading_collapsed": true,
    "hidden": true
   },
   "source": [
    "## Step 2: Create a project using this [Austin AirBnB](https://data.world/jonloyens/inside-airbnb-austin) dataset"
   ]
  },
  {
   "cell_type": "markdown",
   "metadata": {
    "hidden": true
   },
   "source": [
    "Navigate to [this page](https://data.world/jonloyens/inside-airbnb-austin) and use the button at the top right of the page to create a new project using the data.\n",
    "\n",
    "![](img/data_world_austin_airbnb_new_proj.png)"
   ]
  },
  {
   "cell_type": "markdown",
   "metadata": {
    "heading_collapsed": true,
    "hidden": true
   },
   "source": [
    "## Step 3: Create a SQL query"
   ]
  },
  {
   "cell_type": "markdown",
   "metadata": {
    "hidden": true
   },
   "source": [
    "In your project, use the \"+ Add\" button to add a SQL query.\n",
    "\n",
    "![](img/data_world_add_sql_query.png)"
   ]
  },
  {
   "cell_type": "markdown",
   "metadata": {
    "heading_collapsed": true,
    "hidden": true
   },
   "source": [
    "## Step 4: Run a simple SQL query"
   ]
  },
  {
   "cell_type": "markdown",
   "metadata": {
    "hidden": true
   },
   "source": [
    "Try entering \"SELECT * FROM listings\" and clicking the \"Run Query\" button in the top right."
   ]
  },
  {
   "cell_type": "markdown",
   "metadata": {
    "heading_collapsed": true,
    "hidden": true
   },
   "source": [
    "## Step 5: Practice using SQL to explore the data"
   ]
  },
  {
   "cell_type": "markdown",
   "metadata": {
    "hidden": true
   },
   "source": [
    "Below are some exercises to practice your SQL skills and help explore the data. You will need to explore the table schemas to complete these exercises. \n",
    "\n",
    "You may find it helpful to click on the corresponding .csv files to inspect the data, or look at the columns in each table in the right sidebar."
   ]
  },
  {
   "cell_type": "markdown",
   "metadata": {
    "heading_collapsed": true,
    "hidden": true
   },
   "source": [
    "### Exercise 1: Create a table showing the number of listings in each neighborhood"
   ]
  },
  {
   "cell_type": "markdown",
   "metadata": {
    "hidden": true
   },
   "source": [
    "<details>\n",
    "    <summary><b><u>Click Here for Answer Code</u></b></summary>\n",
    "    \n",
    "```sql\n",
    "    SELECT neighbourhood, COUNT(*)\n",
    "    FROM listings\n",
    "    GROUP BY neighbourhood\n",
    "```   \n",
    "</details>"
   ]
  },
  {
   "cell_type": "markdown",
   "metadata": {
    "heading_collapsed": true,
    "hidden": true
   },
   "source": [
    "### Exercise 2: Create a table showing the 20 listings with the most reviews"
   ]
  },
  {
   "cell_type": "markdown",
   "metadata": {
    "hidden": true
   },
   "source": [
    "<details>\n",
    "    <summary><b><u>Click Here for Answer Code</u></b></summary>\n",
    "\n",
    "```sql\n",
    "    SELECT *\n",
    "    FROM listings\n",
    "    ORDER BY number_of_reviews DESC\n",
    "    LIMIT 20\n",
    "```\n",
    "</details>"
   ]
  },
  {
   "cell_type": "markdown",
   "metadata": {
    "heading_collapsed": true,
    "hidden": true
   },
   "source": [
    "### Exercise 3: Create a table showing all of the reviews for listings that are \"Bed & Breakfast\" property types."
   ]
  },
  {
   "cell_type": "markdown",
   "metadata": {
    "hidden": true
   },
   "source": [
    "<details>\n",
    "    <summary><b><u>Click Here for Answer Code</u></b></summary>\n",
    "\n",
    "```sql    \n",
    "    SELECT *\n",
    "    FROM reviews\n",
    "    INNER JOIN listings\n",
    "        ON listings.id = reviews.listing_id\n",
    "    WHERE listings.property_type = \"Bed & Breakfast\"\n",
    "```\n",
    "</details>"
   ]
  },
  {
   "cell_type": "markdown",
   "metadata": {
    "heading_collapsed": true,
    "hidden": true
   },
   "source": [
    "### Exercise 4: Run your own query using a subquery or CTE."
   ]
  },
  {
   "cell_type": "markdown",
   "metadata": {
    "hidden": true
   },
   "source": [
    "Note that the syntax and functionality for subqueries and CTEs in data.world are more limited than SQLite, so try creating simple ones."
   ]
  }
 ],
 "metadata": {
  "kernelspec": {
   "display_name": "Python 3",
   "language": "python",
   "name": "python3"
  },
  "language_info": {
   "codemirror_mode": {
    "name": "ipython",
    "version": 3
   },
   "file_extension": ".py",
   "mimetype": "text/x-python",
   "name": "python",
   "nbconvert_exporter": "python",
   "pygments_lexer": "ipython3",
   "version": "3.8.5"
  },
  "toc": {
   "base_numbering": 1,
   "nav_menu": {},
   "number_sections": true,
   "sideBar": true,
   "skip_h1_title": false,
   "title_cell": "Table of Contents",
   "title_sidebar": "TOC",
   "toc_cell": true,
   "toc_position": {
    "height": "calc(100% - 180px)",
    "left": "10px",
    "top": "150px",
    "width": "336px"
   },
   "toc_section_display": true,
   "toc_window_display": true
  }
 },
 "nbformat": 4,
 "nbformat_minor": 2
}
