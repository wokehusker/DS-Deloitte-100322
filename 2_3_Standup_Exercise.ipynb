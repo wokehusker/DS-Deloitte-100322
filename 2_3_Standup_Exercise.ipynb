{
 "cells": [
  {
   "cell_type": "markdown",
   "metadata": {},
   "source": [
    "### Question 1"
   ]
  },
  {
   "cell_type": "markdown",
   "metadata": {},
   "source": [
    "Given a date string in the form Day Month Year, where Day is like 1st, 2nd, 3rd, 4th, ..., 30th, 31st, Month is like Jan, Feb, Mar, Apr, ..., Nov, Dec, and Year is in the range [1900, 2100] (1900 through 2100 inclusive).\n",
    "\n",
    "Convert the date string to the format YYYY-MM-DD where YYYY is the 4 digit year, MM is the 2 digit month, and DD is the 2 digit day.\n",
    "\n",
    "Note that the given dates are guaranteed to be valid, so no error handling is necessary. \n",
    "\n",
    "Return the converted date string."
   ]
  },
  {
   "cell_type": "markdown",
   "metadata": {},
   "source": [
    "Hints: \n",
    "```{toggle} Handle the conversions of day, month and year separately.\n",
    "```\n",
    "\n",
    "```{toggle}Notice that days always have a two-word ending, so if you erase the last two characters of this days you'll get the number.\n",
    "```"
   ]
  },
  {
   "cell_type": "code",
   "execution_count": 3,
   "metadata": {},
   "outputs": [],
   "source": [
    "def reformatDate(date: str) -> str:\n",
    "    #Fill in your code"
   ]
  },
  {
   "cell_type": "code",
   "execution_count": null,
   "metadata": {},
   "outputs": [],
   "source": []
  },
  {
   "cell_type": "markdown",
   "metadata": {},
   "source": [
    "Follow-up bonus question: What error handling would you add if the given dates are not guaranteed to be valid?"
   ]
  },
  {
   "cell_type": "markdown",
   "metadata": {},
   "source": [
    "### Question 2"
   ]
  },
  {
   "cell_type": "markdown",
   "metadata": {},
   "source": [
    "Write a function to count the number of days between two dates. The two dates are given as strings in the format YYYY-MM-DD.\n",
    "\n",
    "Youc an assume the given dates are valid dates between the years 1971 and 2100."
   ]
  },
  {
   "cell_type": "code",
   "execution_count": null,
   "metadata": {},
   "outputs": [],
   "source": [
    "def daysBetweenDates(date1: str, date2: str) -> int:\n",
    "    #Fill in your code"
   ]
  },
  {
   "cell_type": "markdown",
   "metadata": {},
   "source": [
    "Hints:\n",
    "```{toggle} Create a function f(date) that counts the number of days from 1900-01-01 to date. How can we calculate the answer ?\n",
    "```\n",
    "```{toggle} The answer is just |f(date1) - f(date2)|.\n",
    "```\n",
    "```{toggle} How to construct f(date) ?\n",
    "```\n",
    "```{toggle} For each year from 1900 to year - 1 sum up 365 or 366 in case of leap years. Then sum up for each month the number of days, consider the case when the current year is leap, finally sum up the days.\n",
    "```"
   ]
  }
 ],
 "metadata": {
  "kernelspec": {
   "display_name": "Python (learn-env)",
   "language": "python",
   "name": "learn-env"
  },
  "language_info": {
   "codemirror_mode": {
    "name": "ipython",
    "version": 3
   },
   "file_extension": ".py",
   "mimetype": "text/x-python",
   "name": "python",
   "nbconvert_exporter": "python",
   "pygments_lexer": "ipython3",
   "version": "3.8.5"
  }
 },
 "nbformat": 4,
 "nbformat_minor": 4
}
