{
 "cells": [
  {
   "cell_type": "markdown",
   "metadata": {
    "slideshow": {
     "slide_type": "slide"
    }
   },
   "source": [
    "# Evaluation of Neural Networks"
   ]
  },
  {
   "cell_type": "markdown",
   "metadata": {},
   "source": [
    "## Learning Objectives\n",
    "\n",
    "- use `keras` to code up a neural network model;\n",
    "- explain dropout and early stopping as distinctive forms of regularization in neural networks;\n",
    "- use wrappers inside `keras` to make models that can jibe with `sklearn`."
   ]
  },
  {
   "cell_type": "code",
   "execution_count": 1,
   "metadata": {},
   "outputs": [],
   "source": [
    "from sklearn.datasets import load_sample_images\n",
    "from sklearn.datasets import load_digits\n",
    "from sklearn.model_selection import train_test_split, cross_val_score\n",
    "from sklearn.preprocessing import OneHotEncoder\n",
    "from sklearn.metrics import accuracy_score, confusion_matrix\n",
    "import matplotlib.pyplot as plt\n",
    "import matplotlib.image as mpimg\n",
    "import numpy as np\n",
    "import seaborn as sns\n",
    "\n",
    "from tensorflow.keras.models import Sequential\n",
    "from tensorflow.keras.layers import Dense, Dropout\n",
    "from tensorflow.keras.regularizers import l2\n",
    "from tensorflow.keras.optimizers import SGD\n",
    "from tensorflow.keras.wrappers import scikit_learn\n",
    "from tensorflow.keras.callbacks import EarlyStopping\n",
    "\n",
    "import os\n",
    "import sys\n",
    "module_path = os.path.abspath(os.path.join(os.pardir, os.pardir))\n",
    "if module_path not in sys.path:\n",
    "    sys.path.append(module_path)\n",
    "    \n",
    "%load_ext autoreload\n",
    "%autoreload 2"
   ]
  },
  {
   "cell_type": "markdown",
   "metadata": {},
   "source": [
    "### A few key notes regarding [Sequential Models](https://www.tensorflow.org/guide/keras/sequential_model):"
   ]
  },
  {
   "cell_type": "code",
   "execution_count": 2,
   "metadata": {},
   "outputs": [],
   "source": [
    "#Setup\n",
    "import tensorflow as tf\n",
    "from tensorflow import keras\n",
    "from tensorflow.keras import layers"
   ]
  },
  {
   "cell_type": "markdown",
   "metadata": {},
   "source": [
    "### When to Use a Sequential Model\n",
    "\n",
    "A `Sequential` model is appropriate for **a plain stack of layers** where each layer has **exactly one input tensor and one output tensor**.\n",
    "\n",
    "Schematically, this `Sequential` model:\n",
    "```\n",
    "# Define Sequential model with 3 layers\n",
    "model = keras.Sequential(\n",
    "    [\n",
    "        layers.Dense(2, activation=\"relu\", name=\"layer1\"),\n",
    "        layers.Dense(3, activation=\"relu\", name=\"layer2\"),\n",
    "        layers.Dense(4, name=\"layer3\"),\n",
    "    ]\n",
    ")\n",
    "# Call model on a test input\n",
    "x = tf.ones((3, 3))\n",
    "y = model(x)\n",
    "\n",
    "```\n",
    "\n",
    "...is equivalent to this function:\n",
    "```\n",
    "# Create 3 layers\n",
    "layer1 = layers.Dense(2, activation=\"relu\", name=\"layer1\")\n",
    "layer2 = layers.Dense(3, activation=\"relu\", name=\"layer2\")\n",
    "layer3 = layers.Dense(4, name=\"layer3\")\n",
    "\n",
    "# Call layers on a test input\n",
    "x = tf.ones((3, 3))\n",
    "y = layer3(layer2(layer1(x)))\n",
    "```\n",
    "\n",
    "A Sequential model is **not** appropriate when:\n",
    "\n",
    "- Your model has multiple inputs or multiple outputs\n",
    "- Any of your layers has multiple inputs or multiple outputs\n",
    "- You need to do layer sharing\n",
    "- You want non-linear topology (e.g. a residual connection, a multi-branch model)"
   ]
  },
  {
   "cell_type": "markdown",
   "metadata": {},
   "source": [
    "Let's demonstrate a few more concepts"
   ]
  },
  {
   "cell_type": "code",
   "execution_count": 3,
   "metadata": {},
   "outputs": [],
   "source": [
    "model = keras.Sequential()\n",
    "model.add(layers.Dense(2, activation=\"relu\"))\n",
    "model.add(layers.Dense(3, activation=\"relu\"))\n",
    "model.add(layers.Dense(4))"
   ]
  },
  {
   "cell_type": "markdown",
   "metadata": {},
   "source": [
    "We can view the layers added to the model"
   ]
  },
  {
   "cell_type": "code",
   "execution_count": 4,
   "metadata": {},
   "outputs": [
    {
     "data": {
      "text/plain": [
       "[<tensorflow.python.keras.layers.core.Dense at 0x7fe6b8321f50>,\n",
       " <tensorflow.python.keras.layers.core.Dense at 0x7fe6b834dbd0>,\n",
       " <tensorflow.python.keras.layers.core.Dense at 0x7fe6b832b190>]"
      ]
     },
     "execution_count": 4,
     "metadata": {},
     "output_type": "execute_result"
    }
   ],
   "source": [
    "model.layers"
   ]
  },
  {
   "cell_type": "markdown",
   "metadata": {},
   "source": [
    "Generally, all layers in Keras need to know the shape of their inputs in order to be able to create their weights. So when you create a layer like this, initially, it has no weights:"
   ]
  },
  {
   "cell_type": "code",
   "execution_count": 5,
   "metadata": {},
   "outputs": [
    {
     "ename": "ValueError",
     "evalue": "Weights for model sequential have not yet been created. Weights are created when the Model is first called on inputs or `build()` is called with an `input_shape`.",
     "output_type": "error",
     "traceback": [
      "\u001b[0;31m---------------------------------------------------------------------------\u001b[0m",
      "\u001b[0;31mValueError\u001b[0m                                Traceback (most recent call last)",
      "\u001b[0;32m/var/folders/9y/6072zsmd2bb9h8dwyhg56wn40000gp/T/ipykernel_33408/1449500326.py\u001b[0m in \u001b[0;36m<module>\u001b[0;34m\u001b[0m\n\u001b[1;32m      1\u001b[0m \u001b[0;31m# This will throw an error\u001b[0m\u001b[0;34m\u001b[0m\u001b[0;34m\u001b[0m\u001b[0;34m\u001b[0m\u001b[0m\n\u001b[1;32m      2\u001b[0m \u001b[0;34m\u001b[0m\u001b[0m\n\u001b[0;32m----> 3\u001b[0;31m \u001b[0mmodel\u001b[0m\u001b[0;34m.\u001b[0m\u001b[0mweights\u001b[0m\u001b[0;34m\u001b[0m\u001b[0;34m\u001b[0m\u001b[0m\n\u001b[0m",
      "\u001b[0;32m~/opt/anaconda3/envs/tf/lib/python3.7/site-packages/tensorflow_core/python/keras/engine/network.py\u001b[0m in \u001b[0;36mweights\u001b[0;34m(self)\u001b[0m\n\u001b[1;32m    474\u001b[0m       \u001b[0mA\u001b[0m \u001b[0mlist\u001b[0m \u001b[0mof\u001b[0m \u001b[0mvariables\u001b[0m\u001b[0;34m.\u001b[0m\u001b[0;34m\u001b[0m\u001b[0;34m\u001b[0m\u001b[0m\n\u001b[1;32m    475\u001b[0m     \"\"\"\n\u001b[0;32m--> 476\u001b[0;31m     \u001b[0;32mreturn\u001b[0m \u001b[0mself\u001b[0m\u001b[0;34m.\u001b[0m\u001b[0m_dedup_weights\u001b[0m\u001b[0;34m(\u001b[0m\u001b[0mself\u001b[0m\u001b[0;34m.\u001b[0m\u001b[0m_undeduplicated_weights\u001b[0m\u001b[0;34m)\u001b[0m\u001b[0;34m\u001b[0m\u001b[0;34m\u001b[0m\u001b[0m\n\u001b[0m\u001b[1;32m    477\u001b[0m \u001b[0;34m\u001b[0m\u001b[0m\n\u001b[1;32m    478\u001b[0m   \u001b[0;34m@\u001b[0m\u001b[0mproperty\u001b[0m\u001b[0;34m\u001b[0m\u001b[0;34m\u001b[0m\u001b[0m\n",
      "\u001b[0;32m~/opt/anaconda3/envs/tf/lib/python3.7/site-packages/tensorflow_core/python/keras/engine/network.py\u001b[0m in \u001b[0;36m_undeduplicated_weights\u001b[0;34m(self)\u001b[0m\n\u001b[1;32m    479\u001b[0m   \u001b[0;32mdef\u001b[0m \u001b[0m_undeduplicated_weights\u001b[0m\u001b[0;34m(\u001b[0m\u001b[0mself\u001b[0m\u001b[0;34m)\u001b[0m\u001b[0;34m:\u001b[0m\u001b[0;34m\u001b[0m\u001b[0;34m\u001b[0m\u001b[0m\n\u001b[1;32m    480\u001b[0m     \u001b[0;34m\"\"\"Returns the undeduplicated list of all layer variables/weights.\"\"\"\u001b[0m\u001b[0;34m\u001b[0m\u001b[0;34m\u001b[0m\u001b[0m\n\u001b[0;32m--> 481\u001b[0;31m     \u001b[0mself\u001b[0m\u001b[0;34m.\u001b[0m\u001b[0m_assert_weights_created\u001b[0m\u001b[0;34m(\u001b[0m\u001b[0;34m)\u001b[0m\u001b[0;34m\u001b[0m\u001b[0;34m\u001b[0m\u001b[0m\n\u001b[0m\u001b[1;32m    482\u001b[0m     \u001b[0mweights\u001b[0m \u001b[0;34m=\u001b[0m \u001b[0;34m[\u001b[0m\u001b[0;34m]\u001b[0m\u001b[0;34m\u001b[0m\u001b[0;34m\u001b[0m\u001b[0m\n\u001b[1;32m    483\u001b[0m     \u001b[0;32mfor\u001b[0m \u001b[0mlayer\u001b[0m \u001b[0;32min\u001b[0m \u001b[0mself\u001b[0m\u001b[0;34m.\u001b[0m\u001b[0m_layers\u001b[0m\u001b[0;34m:\u001b[0m\u001b[0;34m\u001b[0m\u001b[0;34m\u001b[0m\u001b[0m\n",
      "\u001b[0;32m~/opt/anaconda3/envs/tf/lib/python3.7/site-packages/tensorflow_core/python/keras/engine/network.py\u001b[0m in \u001b[0;36m_assert_weights_created\u001b[0;34m(self)\u001b[0m\n\u001b[1;32m   1421\u001b[0m                        \u001b[0;34m'Weights are created when the Model is first called on '\u001b[0m\u001b[0;34m\u001b[0m\u001b[0;34m\u001b[0m\u001b[0m\n\u001b[1;32m   1422\u001b[0m                        \u001b[0;34m'inputs or `build()` is called with an `input_shape`.'\u001b[0m \u001b[0;34m%\u001b[0m\u001b[0;34m\u001b[0m\u001b[0;34m\u001b[0m\u001b[0m\n\u001b[0;32m-> 1423\u001b[0;31m                        self.name)\n\u001b[0m\u001b[1;32m   1424\u001b[0m \u001b[0;34m\u001b[0m\u001b[0m\n\u001b[1;32m   1425\u001b[0m   \u001b[0;32mdef\u001b[0m \u001b[0m_graph_network_add_loss\u001b[0m\u001b[0;34m(\u001b[0m\u001b[0mself\u001b[0m\u001b[0;34m,\u001b[0m \u001b[0msymbolic_loss\u001b[0m\u001b[0;34m)\u001b[0m\u001b[0;34m:\u001b[0m\u001b[0;34m\u001b[0m\u001b[0;34m\u001b[0m\u001b[0m\n",
      "\u001b[0;31mValueError\u001b[0m: Weights for model sequential have not yet been created. Weights are created when the Model is first called on inputs or `build()` is called with an `input_shape`."
     ]
    }
   ],
   "source": [
    "# This will throw an error\n",
    "\n",
    "model.weights"
   ]
  },
  {
   "cell_type": "code",
   "execution_count": 6,
   "metadata": {},
   "outputs": [
    {
     "ename": "ValueError",
     "evalue": "This model has not yet been built. Build the model first by calling `build()` or calling `fit()` with some data, or specify an `input_shape` argument in the first layer(s) for automatic build.",
     "output_type": "error",
     "traceback": [
      "\u001b[0;31m---------------------------------------------------------------------------\u001b[0m",
      "\u001b[0;31mValueError\u001b[0m                                Traceback (most recent call last)",
      "\u001b[0;32m/var/folders/9y/6072zsmd2bb9h8dwyhg56wn40000gp/T/ipykernel_33408/4221901074.py\u001b[0m in \u001b[0;36m<module>\u001b[0;34m\u001b[0m\n\u001b[1;32m      1\u001b[0m \u001b[0;31m# This will throw an error:\u001b[0m\u001b[0;34m\u001b[0m\u001b[0;34m\u001b[0m\u001b[0;34m\u001b[0m\u001b[0m\n\u001b[1;32m      2\u001b[0m \u001b[0;34m\u001b[0m\u001b[0m\n\u001b[0;32m----> 3\u001b[0;31m \u001b[0mmodel\u001b[0m\u001b[0;34m.\u001b[0m\u001b[0msummary\u001b[0m\u001b[0;34m(\u001b[0m\u001b[0;34m)\u001b[0m\u001b[0;34m\u001b[0m\u001b[0;34m\u001b[0m\u001b[0m\n\u001b[0m",
      "\u001b[0;32m~/opt/anaconda3/envs/tf/lib/python3.7/site-packages/tensorflow_core/python/keras/engine/network.py\u001b[0m in \u001b[0;36msummary\u001b[0;34m(self, line_length, positions, print_fn)\u001b[0m\n\u001b[1;32m   1255\u001b[0m     \"\"\"\n\u001b[1;32m   1256\u001b[0m     \u001b[0;32mif\u001b[0m \u001b[0;32mnot\u001b[0m \u001b[0mself\u001b[0m\u001b[0;34m.\u001b[0m\u001b[0mbuilt\u001b[0m\u001b[0;34m:\u001b[0m\u001b[0;34m\u001b[0m\u001b[0;34m\u001b[0m\u001b[0m\n\u001b[0;32m-> 1257\u001b[0;31m       raise ValueError('This model has not yet been built. '\n\u001b[0m\u001b[1;32m   1258\u001b[0m                        \u001b[0;34m'Build the model first by calling `build()` or calling '\u001b[0m\u001b[0;34m\u001b[0m\u001b[0;34m\u001b[0m\u001b[0m\n\u001b[1;32m   1259\u001b[0m                        \u001b[0;34m'`fit()` with some data, or specify '\u001b[0m\u001b[0;34m\u001b[0m\u001b[0;34m\u001b[0m\u001b[0m\n",
      "\u001b[0;31mValueError\u001b[0m: This model has not yet been built. Build the model first by calling `build()` or calling `fit()` with some data, or specify an `input_shape` argument in the first layer(s) for automatic build."
     ]
    }
   ],
   "source": [
    "# This will throw an error:\n",
    "\n",
    "model.summary()"
   ]
  },
  {
   "cell_type": "markdown",
   "metadata": {},
   "source": [
    "**Note**: *The model creates its weights the first time it is called on an input, since the shape of the weights depends on the shape of the inputs.*"
   ]
  },
  {
   "cell_type": "code",
   "execution_count": 7,
   "metadata": {},
   "outputs": [
    {
     "name": "stdout",
     "output_type": "stream",
     "text": [
      "Model: \"sequential\"\n",
      "_________________________________________________________________\n",
      "Layer (type)                 Output Shape              Param #   \n",
      "=================================================================\n",
      "dense (Dense)                multiple                  10        \n",
      "_________________________________________________________________\n",
      "dense_1 (Dense)              multiple                  9         \n",
      "_________________________________________________________________\n",
      "dense_2 (Dense)              multiple                  16        \n",
      "=================================================================\n",
      "Total params: 35\n",
      "Trainable params: 35\n",
      "Non-trainable params: 0\n",
      "_________________________________________________________________\n"
     ]
    },
    {
     "name": "stderr",
     "output_type": "stream",
     "text": [
      "2023-02-10 11:55:46.574034: I tensorflow/core/platform/cpu_feature_guard.cc:145] This TensorFlow binary is optimized with Intel(R) MKL-DNN to use the following CPU instructions in performance critical operations:  SSE4.1 SSE4.2\n",
      "To enable them in non-MKL-DNN operations, rebuild TensorFlow with the appropriate compiler flags.\n",
      "2023-02-10 11:55:46.577130: I tensorflow/core/common_runtime/process_util.cc:115] Creating new thread pool with default inter op setting: 10. Tune using inter_op_parallelism_threads for best performance.\n"
     ]
    }
   ],
   "source": [
    "x = tf.ones((1, 4))\n",
    "y = model(x)\n",
    "\n",
    "model.summary()"
   ]
  },
  {
   "cell_type": "code",
   "execution_count": 9,
   "metadata": {},
   "outputs": [
    {
     "data": {
      "text/plain": [
       "<tf.Tensor: id=3, shape=(1, 4), dtype=float32, numpy=array([[1., 1., 1., 1.]], dtype=float32)>"
      ]
     },
     "execution_count": 9,
     "metadata": {},
     "output_type": "execute_result"
    }
   ],
   "source": [
    "x"
   ]
  },
  {
   "cell_type": "code",
   "execution_count": 8,
   "metadata": {},
   "outputs": [
    {
     "data": {
      "text/plain": [
       "[<tf.Variable 'sequential/dense/kernel:0' shape=(4, 2) dtype=float32, numpy=\n",
       " array([[-0.6902063 , -0.23596334],\n",
       "        [-0.94185615, -0.7988186 ],\n",
       "        [ 0.20027065,  0.9933746 ],\n",
       "        [-0.3131261 ,  0.7467599 ]], dtype=float32)>,\n",
       " <tf.Variable 'sequential/dense/bias:0' shape=(2,) dtype=float32, numpy=array([0., 0.], dtype=float32)>,\n",
       " <tf.Variable 'sequential/dense_1/kernel:0' shape=(2, 3) dtype=float32, numpy=\n",
       " array([[ 0.65952766, -0.952578  , -1.0125351 ],\n",
       "        [-0.16158265,  0.66973126, -0.49983495]], dtype=float32)>,\n",
       " <tf.Variable 'sequential/dense_1/bias:0' shape=(3,) dtype=float32, numpy=array([0., 0., 0.], dtype=float32)>,\n",
       " <tf.Variable 'sequential/dense_2/kernel:0' shape=(3, 4) dtype=float32, numpy=\n",
       " array([[ 0.04865986, -0.4937047 , -0.500952  , -0.5393034 ],\n",
       "        [-0.33507514,  0.11549067, -0.68966657, -0.23820943],\n",
       "        [-0.46704328,  0.08719277,  0.56330657,  0.61173224]],\n",
       "       dtype=float32)>,\n",
       " <tf.Variable 'sequential/dense_2/bias:0' shape=(4,) dtype=float32, numpy=array([0., 0., 0., 0.], dtype=float32)>]"
      ]
     },
     "execution_count": 8,
     "metadata": {},
     "output_type": "execute_result"
    }
   ],
   "source": [
    "model.weights"
   ]
  },
  {
   "cell_type": "markdown",
   "metadata": {},
   "source": [
    "It can be helpful to note that there's also a corresponding `pop()` method to remove layers; a `Sequential` model behaves very much like a list of layers:"
   ]
  },
  {
   "cell_type": "code",
   "execution_count": 10,
   "metadata": {},
   "outputs": [],
   "source": [
    "model.pop()"
   ]
  },
  {
   "cell_type": "code",
   "execution_count": 11,
   "metadata": {},
   "outputs": [
    {
     "data": {
      "text/plain": [
       "[<tensorflow.python.keras.layers.core.Dense at 0x7fe6b8321f50>,\n",
       " <tensorflow.python.keras.layers.core.Dense at 0x7fe6b834dbd0>]"
      ]
     },
     "execution_count": 11,
     "metadata": {},
     "output_type": "execute_result"
    }
   ],
   "source": [
    "model.layers"
   ]
  },
  {
   "cell_type": "markdown",
   "metadata": {},
   "source": [
    "And of course, we can still add layers to our Sequential model"
   ]
  },
  {
   "cell_type": "code",
   "execution_count": 12,
   "metadata": {},
   "outputs": [],
   "source": [
    "model.add(layers.Dense(4))"
   ]
  },
  {
   "cell_type": "code",
   "execution_count": 13,
   "metadata": {},
   "outputs": [
    {
     "data": {
      "text/plain": [
       "[<tensorflow.python.keras.layers.core.Dense at 0x7fe6b8321f50>,\n",
       " <tensorflow.python.keras.layers.core.Dense at 0x7fe6b834dbd0>,\n",
       " <tensorflow.python.keras.layers.core.Dense at 0x7fe66827c7d0>]"
      ]
     },
     "execution_count": 13,
     "metadata": {},
     "output_type": "execute_result"
    }
   ],
   "source": [
    "model.layers"
   ]
  },
  {
   "cell_type": "markdown",
   "metadata": {},
   "source": [
    "### From last time"
   ]
  },
  {
   "cell_type": "code",
   "execution_count": 14,
   "metadata": {},
   "outputs": [],
   "source": [
    "digits = load_digits()\n",
    "X = digits.data\n",
    "y = digits.target\n",
    "\n",
    "y_binary = y % 2"
   ]
  },
  {
   "cell_type": "code",
   "execution_count": 16,
   "metadata": {},
   "outputs": [
    {
     "data": {
      "text/plain": [
       "numpy.ndarray"
      ]
     },
     "execution_count": 16,
     "metadata": {},
     "output_type": "execute_result"
    }
   ],
   "source": [
    "type(y_binary)"
   ]
  },
  {
   "cell_type": "code",
   "execution_count": 17,
   "metadata": {},
   "outputs": [
    {
     "data": {
      "text/plain": [
       "array([0, 1, 0, ..., 0, 1, 0])"
      ]
     },
     "execution_count": 17,
     "metadata": {},
     "output_type": "execute_result"
    }
   ],
   "source": [
    "y_binary"
   ]
  },
  {
   "cell_type": "code",
   "execution_count": 15,
   "metadata": {},
   "outputs": [
    {
     "name": "stdout",
     "output_type": "stream",
     "text": [
      "Train on 1797 samples\n",
      "Epoch 1/50\n",
      "1797/1797 [==============================] - 1s 646us/sample - loss: 0.7315 - accuracy: 0.6656\n",
      "Epoch 2/50\n",
      "1797/1797 [==============================] - 0s 148us/sample - loss: 0.3158 - accuracy: 0.8625\n",
      "Epoch 3/50\n",
      "1797/1797 [==============================] - 0s 137us/sample - loss: 0.2292 - accuracy: 0.9071\n",
      "Epoch 4/50\n",
      "1797/1797 [==============================] - 0s 131us/sample - loss: 0.1880 - accuracy: 0.9238\n",
      "Epoch 5/50\n",
      "1797/1797 [==============================] - 0s 151us/sample - loss: 0.1614 - accuracy: 0.9310\n",
      "Epoch 6/50\n",
      "1797/1797 [==============================] - 0s 133us/sample - loss: 0.1335 - accuracy: 0.9449\n",
      "Epoch 7/50\n",
      "1797/1797 [==============================] - 0s 157us/sample - loss: 0.1150 - accuracy: 0.9533\n",
      "Epoch 8/50\n",
      "1797/1797 [==============================] - 0s 151us/sample - loss: 0.1055 - accuracy: 0.9566\n",
      "Epoch 9/50\n",
      "1797/1797 [==============================] - 0s 147us/sample - loss: 0.1010 - accuracy: 0.9594\n",
      "Epoch 10/50\n",
      "1797/1797 [==============================] - 0s 154us/sample - loss: 0.0879 - accuracy: 0.9649\n",
      "Epoch 11/50\n",
      "1797/1797 [==============================] - 0s 143us/sample - loss: 0.0788 - accuracy: 0.9733\n",
      "Epoch 12/50\n",
      "1797/1797 [==============================] - 0s 142us/sample - loss: 0.0763 - accuracy: 0.9716\n",
      "Epoch 13/50\n",
      "1797/1797 [==============================] - 0s 151us/sample - loss: 0.0715 - accuracy: 0.9755\n",
      "Epoch 14/50\n",
      "1797/1797 [==============================] - 0s 135us/sample - loss: 0.0670 - accuracy: 0.9805\n",
      "Epoch 15/50\n",
      "1797/1797 [==============================] - 0s 142us/sample - loss: 0.0613 - accuracy: 0.9777\n",
      "Epoch 16/50\n",
      "1797/1797 [==============================] - 0s 148us/sample - loss: 0.0587 - accuracy: 0.9800\n",
      "Epoch 17/50\n",
      "1797/1797 [==============================] - 0s 140us/sample - loss: 0.0512 - accuracy: 0.9844\n",
      "Epoch 18/50\n",
      "1797/1797 [==============================] - 0s 130us/sample - loss: 0.0548 - accuracy: 0.9822\n",
      "Epoch 19/50\n",
      "1797/1797 [==============================] - 0s 139us/sample - loss: 0.0468 - accuracy: 0.9878\n",
      "Epoch 20/50\n",
      "1797/1797 [==============================] - 0s 151us/sample - loss: 0.0430 - accuracy: 0.9855\n",
      "Epoch 21/50\n",
      "1797/1797 [==============================] - 0s 146us/sample - loss: 0.0416 - accuracy: 0.9866\n",
      "Epoch 22/50\n",
      "1797/1797 [==============================] - 0s 165us/sample - loss: 0.0411 - accuracy: 0.9866\n",
      "Epoch 23/50\n",
      "1797/1797 [==============================] - 0s 164us/sample - loss: 0.0380 - accuracy: 0.9855\n",
      "Epoch 24/50\n",
      "1797/1797 [==============================] - 0s 140us/sample - loss: 0.0333 - accuracy: 0.9917\n",
      "Epoch 25/50\n",
      "1797/1797 [==============================] - 0s 142us/sample - loss: 0.0321 - accuracy: 0.9889\n",
      "Epoch 26/50\n",
      "1797/1797 [==============================] - 0s 132us/sample - loss: 0.0321 - accuracy: 0.9883\n",
      "Epoch 27/50\n",
      "1797/1797 [==============================] - 0s 139us/sample - loss: 0.0305 - accuracy: 0.9872\n",
      "Epoch 28/50\n",
      "1797/1797 [==============================] - 0s 141us/sample - loss: 0.0257 - accuracy: 0.9911\n",
      "Epoch 29/50\n",
      "1797/1797 [==============================] - 0s 141us/sample - loss: 0.0285 - accuracy: 0.9900\n",
      "Epoch 30/50\n",
      "1797/1797 [==============================] - 0s 137us/sample - loss: 0.0280 - accuracy: 0.9889\n",
      "Epoch 31/50\n",
      "1797/1797 [==============================] - 0s 140us/sample - loss: 0.0226 - accuracy: 0.9922\n",
      "Epoch 32/50\n",
      "1797/1797 [==============================] - 0s 133us/sample - loss: 0.0230 - accuracy: 0.9933\n",
      "Epoch 33/50\n",
      "1797/1797 [==============================] - 0s 145us/sample - loss: 0.0184 - accuracy: 0.9950\n",
      "Epoch 34/50\n",
      "1797/1797 [==============================] - 0s 146us/sample - loss: 0.0202 - accuracy: 0.9922\n",
      "Epoch 35/50\n",
      "1797/1797 [==============================] - 0s 135us/sample - loss: 0.0200 - accuracy: 0.9911\n",
      "Epoch 36/50\n",
      "1797/1797 [==============================] - 0s 143us/sample - loss: 0.0167 - accuracy: 0.9950\n",
      "Epoch 37/50\n",
      "1797/1797 [==============================] - 0s 131us/sample - loss: 0.0202 - accuracy: 0.9933\n",
      "Epoch 38/50\n",
      "1797/1797 [==============================] - 0s 135us/sample - loss: 0.0179 - accuracy: 0.9928\n",
      "Epoch 39/50\n",
      "1797/1797 [==============================] - 0s 137us/sample - loss: 0.0130 - accuracy: 0.9961\n",
      "Epoch 40/50\n",
      "1797/1797 [==============================] - 0s 128us/sample - loss: 0.0121 - accuracy: 0.9961\n",
      "Epoch 41/50\n",
      "1797/1797 [==============================] - 0s 140us/sample - loss: 0.0176 - accuracy: 0.9939\n",
      "Epoch 42/50\n",
      "1797/1797 [==============================] - 0s 131us/sample - loss: 0.0136 - accuracy: 0.9944\n",
      "Epoch 43/50\n",
      "1797/1797 [==============================] - 0s 138us/sample - loss: 0.0088 - accuracy: 0.9983\n",
      "Epoch 44/50\n",
      "1797/1797 [==============================] - 0s 134us/sample - loss: 0.0082 - accuracy: 0.9972\n",
      "Epoch 45/50\n",
      "1797/1797 [==============================] - 0s 142us/sample - loss: 0.0077 - accuracy: 0.9983\n",
      "Epoch 46/50\n",
      "1797/1797 [==============================] - 0s 133us/sample - loss: 0.0110 - accuracy: 0.9967\n",
      "Epoch 47/50\n",
      "1797/1797 [==============================] - 0s 132us/sample - loss: 0.0116 - accuracy: 0.9955\n",
      "Epoch 48/50\n",
      "1797/1797 [==============================] - 0s 140us/sample - loss: 0.0091 - accuracy: 0.9972\n",
      "Epoch 49/50\n",
      "1797/1797 [==============================] - 0s 129us/sample - loss: 0.0066 - accuracy: 0.9983\n",
      "Epoch 50/50\n",
      "1797/1797 [==============================] - 0s 130us/sample - loss: 0.0069 - accuracy: 0.9983\n"
     ]
    },
    {
     "data": {
      "text/plain": [
       "<tensorflow.python.keras.callbacks.History at 0x7fe6a94e5850>"
      ]
     },
     "execution_count": 15,
     "metadata": {},
     "output_type": "execute_result"
    }
   ],
   "source": [
    "#Set up, compile, and fit a simple neural network model.\n",
    "\n",
    "model = Sequential()\n",
    "\n",
    "#Here, we implicitly define our input layer.\n",
    "#Alternatively, we could have instantiated our model as\n",
    "#model = Sequential([tf.keras.layers.InputLayer(input_shape=(64,))]\n",
    "model.add(Dense(12, activation='relu', input_dim=64))\n",
    "\n",
    "model.add(Dense(8, activation='relu'))\n",
    "model.add(Dense(1, activation='sigmoid'))\n",
    "\n",
    "model.compile(optimizer='adam',\n",
    "              loss='binary_crossentropy',\n",
    "              metrics=['accuracy'])\n",
    "\n",
    "model.fit(X, y_binary, epochs=50, batch_size=10)"
   ]
  },
  {
   "cell_type": "markdown",
   "metadata": {},
   "source": [
    "It is generally recommended to use the Keras Functional model via an input_dim parameter, which creates an InputLayer, without directly using InputLayer"
   ]
  },
  {
   "cell_type": "markdown",
   "metadata": {},
   "source": [
    "### Things to know:\n",
    "\n",
    "- The data and labels in `fit()` need to be numpy arrays, not `pandas` dfs.\n",
    "- Scaling your data will have a large impact on your model.\n",
    "   > For our traditional input features, we would use a scaler object. For images, as long as the minimum value is 0, we can simply divide through by the maximum pixel intensity."
   ]
  },
  {
   "cell_type": "markdown",
   "metadata": {},
   "source": [
    "#### Getting data ready for modeling\n",
    "**Preprocessing**:\n",
    "\n",
    "- use train_test_split to create X_train, y_train, X_test, and y_test\n",
    "- Split training data into pure_train and validation sets.\n",
    "- Scale the pixel intensity to a value between 0 and 1."
   ]
  },
  {
   "cell_type": "markdown",
   "metadata": {},
   "source": [
    "Scaling our input variables will help speed up our neural network.\n",
    "\n",
    "Since our minimum intensity is 0, we can normalize the inputs by dividing each value by the max value (16)."
   ]
  },
  {
   "cell_type": "code",
   "execution_count": 18,
   "metadata": {},
   "outputs": [],
   "source": [
    "#Perform preprocessing to set up our data arrays appropriately\n",
    "X_train, X_test, y_train, y_test =\\\n",
    "train_test_split(X, y_binary, random_state=42, test_size=0.2)\n",
    "\n",
    "X_pure_train, X_val, y_pure_train, y_val = train_test_split(X_train, y_train, random_state=42, test_size=0.2)\n",
    "\n",
    "X_pure_train, X_val, X_test = X_pure_train/16, X_val/16, X_test/16"
   ]
  },
  {
   "cell_type": "markdown",
   "metadata": {},
   "source": [
    "For activation, let's start with the familiar sigmoid function, and see how it performs."
   ]
  },
  {
   "cell_type": "code",
   "execution_count": 19,
   "metadata": {},
   "outputs": [
    {
     "name": "stdout",
     "output_type": "stream",
     "text": [
      "Train on 1149 samples\n",
      "Epoch 1/10\n",
      "1149/1149 [==============================] - 0s 359us/sample - loss: 0.8295 - accuracy: 0.5039\n",
      "Epoch 2/10\n",
      "1149/1149 [==============================] - 0s 16us/sample - loss: 0.8068 - accuracy: 0.5039\n",
      "Epoch 3/10\n",
      "1149/1149 [==============================] - 0s 21us/sample - loss: 0.7885 - accuracy: 0.5039\n",
      "Epoch 4/10\n",
      "1149/1149 [==============================] - 0s 18us/sample - loss: 0.7730 - accuracy: 0.5039\n",
      "Epoch 5/10\n",
      "1149/1149 [==============================] - 0s 21us/sample - loss: 0.7595 - accuracy: 0.5039\n",
      "Epoch 6/10\n",
      "1149/1149 [==============================] - 0s 16us/sample - loss: 0.7487 - accuracy: 0.5039\n",
      "Epoch 7/10\n",
      "1149/1149 [==============================] - 0s 20us/sample - loss: 0.7398 - accuracy: 0.5039\n",
      "Epoch 8/10\n",
      "1149/1149 [==============================] - 0s 19us/sample - loss: 0.7323 - accuracy: 0.5039\n",
      "Epoch 9/10\n",
      "1149/1149 [==============================] - 0s 18us/sample - loss: 0.7262 - accuracy: 0.5039\n",
      "Epoch 10/10\n",
      "1149/1149 [==============================] - 0s 16us/sample - loss: 0.7211 - accuracy: 0.5039\n"
     ]
    }
   ],
   "source": [
    "#First Model\n",
    "\n",
    "model = Sequential()\n",
    "# We will start with our trusty sigmoid function.\n",
    "# What does input dimension correspond to?\n",
    "model.add(Dense(12, activation='sigmoid', input_dim=64))\n",
    "model.add(Dense(8, activation='sigmoid'))\n",
    "model.add(Dense(1, activation='sigmoid'))\n",
    "\n",
    "model.compile(optimizer='SGD' ,\n",
    "              # We use binary_crossentropy for a binary loss function\n",
    "              loss='binary_crossentropy',\n",
    "              metrics=['accuracy'])\n",
    "\n",
    "# Assign to a variable to store the results,\n",
    "# and set verbose=1 so we can see the output. To see\n",
    "# only the metrics at the end of each epoch, set verbose=2.\n",
    "results = model.fit(X_pure_train, y_pure_train, epochs=10, batch_size=100, verbose=1)"
   ]
  },
  {
   "cell_type": "markdown",
   "metadata": {},
   "source": [
    "We can access the history of our model via `results.history`.\n",
    "Use __dict__ to take a tour."
   ]
  },
  {
   "cell_type": "code",
   "execution_count": 20,
   "metadata": {},
   "outputs": [
    {
     "data": {
      "text/plain": [
       "{'loss': [0.8294714534147809,\n",
       "  0.8068252838726558,\n",
       "  0.7885241524046457,\n",
       "  0.7729907222578482,\n",
       "  0.7595320652110147,\n",
       "  0.7486889190109426,\n",
       "  0.7398484551045457,\n",
       "  0.7322715280157676,\n",
       "  0.7262081025578438,\n",
       "  0.7211136270648402],\n",
       " 'accuracy': [0.50391644,\n",
       "  0.50391644,\n",
       "  0.50391644,\n",
       "  0.50391644,\n",
       "  0.50391644,\n",
       "  0.50391644,\n",
       "  0.50391644,\n",
       "  0.50391644,\n",
       "  0.50391644,\n",
       "  0.50391644]}"
      ]
     },
     "execution_count": 20,
     "metadata": {},
     "output_type": "execute_result"
    }
   ],
   "source": [
    "results.history"
   ]
  },
  {
   "cell_type": "code",
   "execution_count": 21,
   "metadata": {},
   "outputs": [
    {
     "data": {
      "image/png": "[encoded data removed]",
      "text/plain": [
       "<Figure size 720x360 with 2 Axes>"
      ]
     },
     "metadata": {
      "needs_background": "light"
     },
     "output_type": "display_data"
    }
   ],
   "source": [
    "#Get the loss function values, and the accuracy values\n",
    "sigmoid_loss = results.history['loss']\n",
    "sigmoid_accuracy = results.history['accuracy']\n",
    "\n",
    "fig, (ax1, ax2) = plt.subplots(1, 2, figsize=(10, 5))\n",
    "sns.lineplot(x=results.epoch, y=sigmoid_loss, ax=ax1, label='loss')\n",
    "sns.lineplot(x=results.epoch, y=sigmoid_accuracy, ax=ax2, label='accuracy');"
   ]
  },
  {
   "cell_type": "markdown",
   "metadata": {},
   "source": [
    "We have two plots above both relating to the quality of our model.  The left-hand plot is our loss. It uses the probabilities associated with our predictions to judge how well our prediction fits reality. We want it to decrease as far as possible.\n",
    "\n",
    "The accuracy judges how well the predictions are after applying the threshold at the output layer.  We want accuracy to increase."
   ]
  },
  {
   "cell_type": "markdown",
   "metadata": {},
   "source": [
    "If we look at our loss, it is still decreasing. That is a signal that our model is **still learning**. If our model is still learning, we can allow it to get better by turning a few dials.\n",
    "\n",
    "Let's:\n",
    "- increase the number of epochs;\n",
    "- change sigmoid activation in the hidden layers to ReLU; and\n",
    "- decrease the batch size."
   ]
  },
  {
   "cell_type": "code",
   "execution_count": 22,
   "metadata": {},
   "outputs": [
    {
     "data": {
      "text/plain": [
       "1149"
      ]
     },
     "execution_count": 22,
     "metadata": {},
     "output_type": "execute_result"
    }
   ],
   "source": [
    "X_pure_train.shape[0]"
   ]
  },
  {
   "cell_type": "code",
   "execution_count": 23,
   "metadata": {},
   "outputs": [
    {
     "name": "stdout",
     "output_type": "stream",
     "text": [
      "Train on 1149 samples\n",
      "Epoch 1/100\n",
      "1149/1149 [==============================] - 1s 513us/sample - loss: 0.7478 - accuracy: 0.4595\n",
      "Epoch 2/100\n",
      "1149/1149 [==============================] - 0s 43us/sample - loss: 0.6973 - accuracy: 0.5205\n",
      "Epoch 3/100\n",
      "1149/1149 [==============================] - 0s 42us/sample - loss: 0.6804 - accuracy: 0.5674\n",
      "Epoch 4/100\n",
      "1149/1149 [==============================] - 0s 41us/sample - loss: 0.6690 - accuracy: 0.6084\n",
      "Epoch 5/100\n",
      "1149/1149 [==============================] - 0s 43us/sample - loss: 0.6587 - accuracy: 0.6371\n",
      "Epoch 6/100\n",
      "1149/1149 [==============================] - 0s 53us/sample - loss: 0.6480 - accuracy: 0.6667\n",
      "Epoch 7/100\n",
      "1149/1149 [==============================] - 0s 46us/sample - loss: 0.6360 - accuracy: 0.6858\n",
      "Epoch 8/100\n",
      "1149/1149 [==============================] - 0s 44us/sample - loss: 0.6220 - accuracy: 0.7032\n",
      "Epoch 9/100\n",
      "1149/1149 [==============================] - 0s 50us/sample - loss: 0.6051 - accuracy: 0.7276\n",
      "Epoch 10/100\n",
      "1149/1149 [==============================] - 0s 49us/sample - loss: 0.5866 - accuracy: 0.7493\n",
      "Epoch 11/100\n",
      "1149/1149 [==============================] - 0s 46us/sample - loss: 0.5652 - accuracy: 0.7763\n",
      "Epoch 12/100\n",
      "1149/1149 [==============================] - 0s 39us/sample - loss: 0.5410 - accuracy: 0.7946\n",
      "Epoch 13/100\n",
      "1149/1149 [==============================] - 0s 40us/sample - loss: 0.5153 - accuracy: 0.8268\n",
      "Epoch 14/100\n",
      "1149/1149 [==============================] - 0s 41us/sample - loss: 0.4878 - accuracy: 0.8390\n",
      "Epoch 15/100\n",
      "1149/1149 [==============================] - 0s 41us/sample - loss: 0.4598 - accuracy: 0.8494\n",
      "Epoch 16/100\n",
      "1149/1149 [==============================] - 0s 40us/sample - loss: 0.4324 - accuracy: 0.8573\n",
      "Epoch 17/100\n",
      "1149/1149 [==============================] - 0s 44us/sample - loss: 0.4057 - accuracy: 0.8660\n",
      "Epoch 18/100\n",
      "1149/1149 [==============================] - 0s 40us/sample - loss: 0.3824 - accuracy: 0.8729\n",
      "Epoch 19/100\n",
      "1149/1149 [==============================] - 0s 38us/sample - loss: 0.3610 - accuracy: 0.8799\n",
      "Epoch 20/100\n",
      "1149/1149 [==============================] - 0s 41us/sample - loss: 0.3425 - accuracy: 0.8790\n",
      "Epoch 21/100\n",
      "1149/1149 [==============================] - 0s 39us/sample - loss: 0.3280 - accuracy: 0.8816\n",
      "Epoch 22/100\n",
      "1149/1149 [==============================] - 0s 42us/sample - loss: 0.3144 - accuracy: 0.8860\n",
      "Epoch 23/100\n",
      "1149/1149 [==============================] - 0s 40us/sample - loss: 0.3027 - accuracy: 0.8877\n",
      "Epoch 24/100\n",
      "1149/1149 [==============================] - 0s 42us/sample - loss: 0.2934 - accuracy: 0.8938\n",
      "Epoch 25/100\n",
      "1149/1149 [==============================] - 0s 41us/sample - loss: 0.2845 - accuracy: 0.8938\n",
      "Epoch 26/100\n",
      "1149/1149 [==============================] - 0s 42us/sample - loss: 0.2776 - accuracy: 0.8921\n",
      "Epoch 27/100\n",
      "1149/1149 [==============================] - 0s 46us/sample - loss: 0.2713 - accuracy: 0.8921\n",
      "Epoch 28/100\n",
      "1149/1149 [==============================] - 0s 42us/sample - loss: 0.2648 - accuracy: 0.8947\n",
      "Epoch 29/100\n",
      "1149/1149 [==============================] - 0s 39us/sample - loss: 0.2604 - accuracy: 0.8947\n",
      "Epoch 30/100\n",
      "1149/1149 [==============================] - 0s 40us/sample - loss: 0.2549 - accuracy: 0.8956\n",
      "Epoch 31/100\n",
      "1149/1149 [==============================] - 0s 46us/sample - loss: 0.2522 - accuracy: 0.8990\n",
      "Epoch 32/100\n",
      "1149/1149 [==============================] - 0s 42us/sample - loss: 0.2464 - accuracy: 0.8956\n",
      "Epoch 33/100\n",
      "1149/1149 [==============================] - 0s 41us/sample - loss: 0.2424 - accuracy: 0.9025\n",
      "Epoch 34/100\n",
      "1149/1149 [==============================] - 0s 44us/sample - loss: 0.2398 - accuracy: 0.9017\n",
      "Epoch 35/100\n",
      "1149/1149 [==============================] - 0s 42us/sample - loss: 0.2359 - accuracy: 0.9043\n",
      "Epoch 36/100\n",
      "1149/1149 [==============================] - 0s 43us/sample - loss: 0.2332 - accuracy: 0.9043\n",
      "Epoch 37/100\n",
      "1149/1149 [==============================] - 0s 41us/sample - loss: 0.2289 - accuracy: 0.9069\n",
      "Epoch 38/100\n",
      "1149/1149 [==============================] - 0s 40us/sample - loss: 0.2285 - accuracy: 0.9051\n",
      "Epoch 39/100\n",
      "1149/1149 [==============================] - 0s 40us/sample - loss: 0.2254 - accuracy: 0.9051\n",
      "Epoch 40/100\n",
      "1149/1149 [==============================] - 0s 41us/sample - loss: 0.2219 - accuracy: 0.9034\n",
      "Epoch 41/100\n",
      "1149/1149 [==============================] - 0s 41us/sample - loss: 0.2188 - accuracy: 0.9086\n",
      "Epoch 42/100\n",
      "1149/1149 [==============================] - 0s 43us/sample - loss: 0.2177 - accuracy: 0.9086\n",
      "Epoch 43/100\n",
      "1149/1149 [==============================] - 0s 40us/sample - loss: 0.2151 - accuracy: 0.9077\n",
      "Epoch 44/100\n",
      "1149/1149 [==============================] - 0s 41us/sample - loss: 0.2131 - accuracy: 0.9104\n",
      "Epoch 45/100\n",
      "1149/1149 [==============================] - 0s 40us/sample - loss: 0.2096 - accuracy: 0.9156\n",
      "Epoch 46/100\n",
      "1149/1149 [==============================] - 0s 39us/sample - loss: 0.2082 - accuracy: 0.9086\n",
      "Epoch 47/100\n",
      "1149/1149 [==============================] - 0s 45us/sample - loss: 0.2063 - accuracy: 0.9077\n",
      "Epoch 48/100\n",
      "1149/1149 [==============================] - 0s 46us/sample - loss: 0.2051 - accuracy: 0.9112\n",
      "Epoch 49/100\n",
      "1149/1149 [==============================] - 0s 42us/sample - loss: 0.2028 - accuracy: 0.9112\n",
      "Epoch 50/100\n",
      "1149/1149 [==============================] - 0s 40us/sample - loss: 0.2007 - accuracy: 0.9112\n",
      "Epoch 51/100\n",
      "1149/1149 [==============================] - 0s 42us/sample - loss: 0.1983 - accuracy: 0.9112\n",
      "Epoch 52/100\n",
      "1149/1149 [==============================] - 0s 38us/sample - loss: 0.1967 - accuracy: 0.9138\n",
      "Epoch 53/100\n",
      "1149/1149 [==============================] - 0s 40us/sample - loss: 0.1960 - accuracy: 0.9130\n",
      "Epoch 54/100\n",
      "1149/1149 [==============================] - 0s 41us/sample - loss: 0.1937 - accuracy: 0.9164\n",
      "Epoch 55/100\n",
      "1149/1149 [==============================] - 0s 40us/sample - loss: 0.1932 - accuracy: 0.9147\n",
      "Epoch 56/100\n",
      "1149/1149 [==============================] - 0s 44us/sample - loss: 0.1914 - accuracy: 0.9147\n",
      "Epoch 57/100\n",
      "1149/1149 [==============================] - 0s 43us/sample - loss: 0.1896 - accuracy: 0.9147\n",
      "Epoch 58/100\n",
      "1149/1149 [==============================] - 0s 43us/sample - loss: 0.1875 - accuracy: 0.9164\n",
      "Epoch 59/100\n",
      "1149/1149 [==============================] - 0s 40us/sample - loss: 0.1860 - accuracy: 0.9138\n",
      "Epoch 60/100\n",
      "1149/1149 [==============================] - 0s 42us/sample - loss: 0.1856 - accuracy: 0.9164\n",
      "Epoch 61/100\n",
      "1149/1149 [==============================] - 0s 41us/sample - loss: 0.1841 - accuracy: 0.9173\n",
      "Epoch 62/100\n",
      "1149/1149 [==============================] - 0s 39us/sample - loss: 0.1827 - accuracy: 0.9191\n",
      "Epoch 63/100\n",
      "1149/1149 [==============================] - 0s 39us/sample - loss: 0.1812 - accuracy: 0.9208\n",
      "Epoch 64/100\n",
      "1149/1149 [==============================] - 0s 39us/sample - loss: 0.1799 - accuracy: 0.9182\n",
      "Epoch 65/100\n",
      "1149/1149 [==============================] - 0s 40us/sample - loss: 0.1783 - accuracy: 0.9164\n",
      "Epoch 66/100\n",
      "1149/1149 [==============================] - 0s 39us/sample - loss: 0.1767 - accuracy: 0.9199\n",
      "Epoch 67/100\n",
      "1149/1149 [==============================] - 0s 52us/sample - loss: 0.1753 - accuracy: 0.9217\n",
      "Epoch 68/100\n",
      "1149/1149 [==============================] - 0s 44us/sample - loss: 0.1745 - accuracy: 0.9191\n",
      "Epoch 69/100\n",
      "1149/1149 [==============================] - 0s 40us/sample - loss: 0.1729 - accuracy: 0.9182\n",
      "Epoch 70/100\n",
      "1149/1149 [==============================] - 0s 40us/sample - loss: 0.1719 - accuracy: 0.9217\n",
      "Epoch 71/100\n",
      "1149/1149 [==============================] - 0s 39us/sample - loss: 0.1701 - accuracy: 0.9182\n",
      "Epoch 72/100\n",
      "1149/1149 [==============================] - 0s 40us/sample - loss: 0.1691 - accuracy: 0.9182\n",
      "Epoch 73/100\n",
      "1149/1149 [==============================] - 0s 64us/sample - loss: 0.1687 - accuracy: 0.9217\n",
      "Epoch 74/100\n",
      "1149/1149 [==============================] - 0s 50us/sample - loss: 0.1667 - accuracy: 0.9234\n",
      "Epoch 75/100\n",
      "1149/1149 [==============================] - 0s 42us/sample - loss: 0.1660 - accuracy: 0.9208\n",
      "Epoch 76/100\n",
      "1149/1149 [==============================] - 0s 47us/sample - loss: 0.1647 - accuracy: 0.9252\n",
      "Epoch 77/100\n"
     ]
    },
    {
     "name": "stdout",
     "output_type": "stream",
     "text": [
      "1149/1149 [==============================] - 0s 43us/sample - loss: 0.1633 - accuracy: 0.9234\n",
      "Epoch 78/100\n",
      "1149/1149 [==============================] - 0s 41us/sample - loss: 0.1614 - accuracy: 0.9234\n",
      "Epoch 79/100\n",
      "1149/1149 [==============================] - 0s 38us/sample - loss: 0.1613 - accuracy: 0.9260\n",
      "Epoch 80/100\n",
      "1149/1149 [==============================] - 0s 39us/sample - loss: 0.1597 - accuracy: 0.9243\n",
      "Epoch 81/100\n",
      "1149/1149 [==============================] - 0s 48us/sample - loss: 0.1592 - accuracy: 0.9269\n",
      "Epoch 82/100\n",
      "1149/1149 [==============================] - 0s 44us/sample - loss: 0.1580 - accuracy: 0.9286\n",
      "Epoch 83/100\n",
      "1149/1149 [==============================] - 0s 42us/sample - loss: 0.1569 - accuracy: 0.9286\n",
      "Epoch 84/100\n",
      "1149/1149 [==============================] - 0s 38us/sample - loss: 0.1562 - accuracy: 0.9243\n",
      "Epoch 85/100\n",
      "1149/1149 [==============================] - 0s 41us/sample - loss: 0.1539 - accuracy: 0.9260\n",
      "Epoch 86/100\n",
      "1149/1149 [==============================] - 0s 39us/sample - loss: 0.1538 - accuracy: 0.9252\n",
      "Epoch 87/100\n",
      "1149/1149 [==============================] - 0s 41us/sample - loss: 0.1527 - accuracy: 0.9295\n",
      "Epoch 88/100\n",
      "1149/1149 [==============================] - 0s 38us/sample - loss: 0.1508 - accuracy: 0.9304\n",
      "Epoch 89/100\n",
      "1149/1149 [==============================] - 0s 36us/sample - loss: 0.1512 - accuracy: 0.9295\n",
      "Epoch 90/100\n",
      "1149/1149 [==============================] - 0s 36us/sample - loss: 0.1491 - accuracy: 0.9330\n",
      "Epoch 91/100\n",
      "1149/1149 [==============================] - 0s 38us/sample - loss: 0.1486 - accuracy: 0.9295\n",
      "Epoch 92/100\n",
      "1149/1149 [==============================] - 0s 38us/sample - loss: 0.1475 - accuracy: 0.9312\n",
      "Epoch 93/100\n",
      "1149/1149 [==============================] - 0s 43us/sample - loss: 0.1461 - accuracy: 0.9304\n",
      "Epoch 94/100\n",
      "1149/1149 [==============================] - 0s 46us/sample - loss: 0.1437 - accuracy: 0.9330\n",
      "Epoch 95/100\n",
      "1149/1149 [==============================] - 0s 40us/sample - loss: 0.1444 - accuracy: 0.9373\n",
      "Epoch 96/100\n",
      "1149/1149 [==============================] - 0s 37us/sample - loss: 0.1436 - accuracy: 0.9312\n",
      "Epoch 97/100\n",
      "1149/1149 [==============================] - 0s 37us/sample - loss: 0.1413 - accuracy: 0.9339\n",
      "Epoch 98/100\n",
      "1149/1149 [==============================] - 0s 38us/sample - loss: 0.1414 - accuracy: 0.9365\n",
      "Epoch 99/100\n",
      "1149/1149 [==============================] - 0s 38us/sample - loss: 0.1404 - accuracy: 0.9356\n",
      "Epoch 100/100\n",
      "1149/1149 [==============================] - 0s 43us/sample - loss: 0.1392 - accuracy: 0.9356\n"
     ]
    }
   ],
   "source": [
    "#Second model: Make the changes noted above.\n",
    "\n",
    "model = Sequential()\n",
    "model.add(Dense(12, activation='relu', input_dim=64))\n",
    "model.add(Dense(8, activation='relu'))\n",
    "model.add(Dense(1, activation='sigmoid'))\n",
    "\n",
    "model.compile(optimizer='SGD' ,\n",
    "              loss='binary_crossentropy',\n",
    "              metrics=['accuracy'])\n",
    "\n",
    "results = model.fit(X_pure_train, y_pure_train, epochs=100, batch_size=None, verbose=1)\n"
   ]
  },
  {
   "cell_type": "code",
   "execution_count": 24,
   "metadata": {},
   "outputs": [
    {
     "data": {
      "image/png": "[encoded data removed]",
      "text/plain": [
       "<Figure size 720x360 with 2 Axes>"
      ]
     },
     "metadata": {
      "needs_background": "light"
     },
     "output_type": "display_data"
    }
   ],
   "source": [
    "sigmoid_loss = results.history['loss']\n",
    "sigmoid_accuracy = results.history['accuracy']\n",
    "\n",
    "fig, (ax1, ax2) = plt.subplots(1, 2, figsize=(10, 5))\n",
    "sns.lineplot(x=results.epoch, y=sigmoid_loss, ax=ax1, label='loss')\n",
    "sns.lineplot(x=results.epoch, y=sigmoid_accuracy, ax=ax2, label='accuracy');"
   ]
  },
  {
   "cell_type": "markdown",
   "metadata": {},
   "source": [
    "If we increase the learning rate to a very high number, we see that our model overshoots the minimum, and starts bouncing all around."
   ]
  },
  {
   "cell_type": "code",
   "execution_count": 25,
   "metadata": {},
   "outputs": [
    {
     "name": "stdout",
     "output_type": "stream",
     "text": [
      "Train on 1149 samples\n",
      "Epoch 1/30\n",
      "1149/1149 [==============================] - 1s 476us/sample - loss: 22.6552 - accuracy: 0.5030\n",
      "Epoch 2/30\n",
      "1149/1149 [==============================] - 0s 120us/sample - loss: 1.0059 - accuracy: 0.4865\n",
      "Epoch 3/30\n",
      "1149/1149 [==============================] - 0s 150us/sample - loss: 1.1241 - accuracy: 0.4830\n",
      "Epoch 4/30\n",
      "1149/1149 [==============================] - 0s 146us/sample - loss: 1.0319 - accuracy: 0.5109\n",
      "Epoch 5/30\n",
      "1149/1149 [==============================] - 0s 131us/sample - loss: 0.9434 - accuracy: 0.5030\n",
      "Epoch 6/30\n",
      "1149/1149 [==============================] - 0s 138us/sample - loss: 1.0563 - accuracy: 0.4743\n",
      "Epoch 7/30\n",
      "1149/1149 [==============================] - 0s 138us/sample - loss: 0.9337 - accuracy: 0.5065\n",
      "Epoch 8/30\n",
      "1149/1149 [==============================] - 0s 122us/sample - loss: 1.1324 - accuracy: 0.4778\n",
      "Epoch 9/30\n",
      "1149/1149 [==============================] - 0s 117us/sample - loss: 0.9736 - accuracy: 0.5030\n",
      "Epoch 10/30\n",
      "1149/1149 [==============================] - 0s 117us/sample - loss: 1.0384 - accuracy: 0.4891\n",
      "Epoch 11/30\n",
      "1149/1149 [==============================] - 0s 129us/sample - loss: 0.9803 - accuracy: 0.4978\n",
      "Epoch 12/30\n",
      "1149/1149 [==============================] - 0s 144us/sample - loss: 1.0061 - accuracy: 0.5013\n",
      "Epoch 13/30\n",
      "1149/1149 [==============================] - 0s 124us/sample - loss: 0.9904 - accuracy: 0.4996\n",
      "Epoch 14/30\n",
      "1149/1149 [==============================] - 0s 130us/sample - loss: 1.0866 - accuracy: 0.4874\n",
      "Epoch 15/30\n",
      "1149/1149 [==============================] - 0s 117us/sample - loss: 0.9935 - accuracy: 0.5065\n",
      "Epoch 16/30\n",
      "1149/1149 [==============================] - 0s 117us/sample - loss: 1.0326 - accuracy: 0.4926\n",
      "Epoch 17/30\n",
      "1149/1149 [==============================] - 0s 117us/sample - loss: 1.0048 - accuracy: 0.5074\n",
      "Epoch 18/30\n",
      "1149/1149 [==============================] - 0s 122us/sample - loss: 0.9846 - accuracy: 0.5039\n",
      "Epoch 19/30\n",
      "1149/1149 [==============================] - 0s 121us/sample - loss: 1.0090 - accuracy: 0.5013\n",
      "Epoch 20/30\n",
      "1149/1149 [==============================] - 0s 124us/sample - loss: 1.0154 - accuracy: 0.4970\n",
      "Epoch 21/30\n",
      "1149/1149 [==============================] - 0s 130us/sample - loss: 0.9762 - accuracy: 0.5109\n",
      "Epoch 22/30\n",
      "1149/1149 [==============================] - 0s 119us/sample - loss: 1.0559 - accuracy: 0.4952\n",
      "Epoch 23/30\n",
      "1149/1149 [==============================] - 0s 126us/sample - loss: 0.9940 - accuracy: 0.5022\n",
      "Epoch 24/30\n",
      "1149/1149 [==============================] - 0s 126us/sample - loss: 1.0856 - accuracy: 0.4761\n",
      "Epoch 25/30\n",
      "1149/1149 [==============================] - 0s 127us/sample - loss: 0.9717 - accuracy: 0.5126\n",
      "Epoch 26/30\n",
      "1149/1149 [==============================] - 0s 124us/sample - loss: 0.9805 - accuracy: 0.5022\n",
      "Epoch 27/30\n",
      "1149/1149 [==============================] - 0s 118us/sample - loss: 1.1236 - accuracy: 0.4656\n",
      "Epoch 28/30\n",
      "1149/1149 [==============================] - 0s 122us/sample - loss: 1.0157 - accuracy: 0.5013\n",
      "Epoch 29/30\n",
      "1149/1149 [==============================] - 0s 116us/sample - loss: 0.9740 - accuracy: 0.5013\n",
      "Epoch 30/30\n",
      "1149/1149 [==============================] - 0s 121us/sample - loss: 0.9291 - accuracy: 0.5083\n"
     ]
    },
    {
     "data": {
      "image/png": "[encoded data removed]",
      "text/plain": [
       "<Figure size 720x360 with 2 Axes>"
      ]
     },
     "metadata": {
      "needs_background": "light"
     },
     "output_type": "display_data"
    }
   ],
   "source": [
    "model = Sequential()\n",
    "\n",
    "sgd = SGD(lr=9) #Setting a really high learning rate\n",
    "model.add(Dense(12, activation='relu', input_dim=64))\n",
    "model.add(Dense(8, activation='relu'))\n",
    "model.add(Dense(1, activation='sigmoid'))\n",
    "\n",
    "model.compile(optimizer=sgd,\n",
    "              loss='binary_crossentropy',\n",
    "              metrics=['accuracy'])\n",
    "\n",
    "results = model.fit(X_pure_train, y_pure_train,\n",
    "                    epochs=30, batch_size=10, verbose=1)\n",
    "\n",
    "relu_loss = results.history['loss']\n",
    "relu_accuracy = results.history['accuracy']\n",
    "\n",
    "fig, (ax1, ax2) = plt.subplots(1, 2, figsize=(10, 5))\n",
    "sns.lineplot(x=results.epoch, y=relu_loss, ax=ax1, label='loss')\n",
    "sns.lineplot(x=results.epoch, y=relu_accuracy, ax=ax2, label='accuracy');"
   ]
  },
  {
   "cell_type": "markdown",
   "metadata": {},
   "source": [
    "### Exercise\n",
    "\n",
    "We have been looking only at our training set. Let's add in our validation set to the picture. Check the docstring for the `.fit()` method and add in our validation data."
   ]
  },
  {
   "cell_type": "code",
   "execution_count": 26,
   "metadata": {},
   "outputs": [
    {
     "name": "stdout",
     "output_type": "stream",
     "text": [
      "Train on 1149 samples, validate on 288 samples\n",
      "Epoch 1/30\n",
      "1149/1149 [==============================] - 1s 938us/sample - loss: 0.6242 - accuracy: 0.6945 - val_loss: 0.5122 - val_accuracy: 0.8264\n",
      "Epoch 2/30\n",
      "1149/1149 [==============================] - 0s 189us/sample - loss: 0.3535 - accuracy: 0.8721 - val_loss: 0.2861 - val_accuracy: 0.8889\n",
      "Epoch 3/30\n",
      "1149/1149 [==============================] - 0s 182us/sample - loss: 0.2583 - accuracy: 0.8982 - val_loss: 0.2526 - val_accuracy: 0.8924\n",
      "Epoch 4/30\n",
      "1149/1149 [==============================] - 0s 182us/sample - loss: 0.2196 - accuracy: 0.9112 - val_loss: 0.2270 - val_accuracy: 0.9132\n",
      "Epoch 5/30\n",
      "1149/1149 [==============================] - 0s 181us/sample - loss: 0.1912 - accuracy: 0.9173 - val_loss: 0.1925 - val_accuracy: 0.9132\n",
      "Epoch 6/30\n",
      "1149/1149 [==============================] - 0s 184us/sample - loss: 0.1695 - accuracy: 0.9234 - val_loss: 0.1749 - val_accuracy: 0.9201\n",
      "Epoch 7/30\n",
      "1149/1149 [==============================] - 0s 183us/sample - loss: 0.1566 - accuracy: 0.9321 - val_loss: 0.1587 - val_accuracy: 0.9201\n",
      "Epoch 8/30\n",
      "1149/1149 [==============================] - 0s 192us/sample - loss: 0.1401 - accuracy: 0.9321 - val_loss: 0.1401 - val_accuracy: 0.9306\n",
      "Epoch 9/30\n",
      "1149/1149 [==============================] - 0s 192us/sample - loss: 0.1276 - accuracy: 0.9443 - val_loss: 0.1348 - val_accuracy: 0.9340\n",
      "Epoch 10/30\n",
      "1149/1149 [==============================] - 0s 185us/sample - loss: 0.1222 - accuracy: 0.9417 - val_loss: 0.1329 - val_accuracy: 0.9375\n",
      "Epoch 11/30\n",
      "1149/1149 [==============================] - 0s 208us/sample - loss: 0.1082 - accuracy: 0.9495 - val_loss: 0.1171 - val_accuracy: 0.9306\n",
      "Epoch 12/30\n",
      "1149/1149 [==============================] - 0s 203us/sample - loss: 0.0992 - accuracy: 0.9539 - val_loss: 0.1529 - val_accuracy: 0.9306\n",
      "Epoch 13/30\n",
      "1149/1149 [==============================] - 0s 192us/sample - loss: 0.1003 - accuracy: 0.9565 - val_loss: 0.1115 - val_accuracy: 0.9444\n",
      "Epoch 14/30\n",
      "1149/1149 [==============================] - 0s 203us/sample - loss: 0.0973 - accuracy: 0.9547 - val_loss: 0.1467 - val_accuracy: 0.9375\n",
      "Epoch 15/30\n",
      "1149/1149 [==============================] - 0s 186us/sample - loss: 0.0886 - accuracy: 0.9547 - val_loss: 0.0914 - val_accuracy: 0.9618\n",
      "Epoch 16/30\n",
      "1149/1149 [==============================] - 0s 185us/sample - loss: 0.0824 - accuracy: 0.9669 - val_loss: 0.1147 - val_accuracy: 0.9410\n",
      "Epoch 17/30\n",
      "1149/1149 [==============================] - 0s 184us/sample - loss: 0.0743 - accuracy: 0.9721 - val_loss: 0.0891 - val_accuracy: 0.9549\n",
      "Epoch 18/30\n",
      "1149/1149 [==============================] - 0s 183us/sample - loss: 0.0726 - accuracy: 0.9765 - val_loss: 0.0841 - val_accuracy: 0.9757\n",
      "Epoch 19/30\n",
      "1149/1149 [==============================] - 0s 191us/sample - loss: 0.0663 - accuracy: 0.9809 - val_loss: 0.0948 - val_accuracy: 0.9479\n",
      "Epoch 20/30\n",
      "1149/1149 [==============================] - 0s 195us/sample - loss: 0.0608 - accuracy: 0.9817 - val_loss: 0.0973 - val_accuracy: 0.9549\n",
      "Epoch 21/30\n",
      "1149/1149 [==============================] - 0s 209us/sample - loss: 0.0654 - accuracy: 0.9765 - val_loss: 0.0796 - val_accuracy: 0.9757\n",
      "Epoch 22/30\n",
      "1149/1149 [==============================] - 0s 184us/sample - loss: 0.0591 - accuracy: 0.9809 - val_loss: 0.0793 - val_accuracy: 0.9722\n",
      "Epoch 23/30\n",
      "1149/1149 [==============================] - 0s 180us/sample - loss: 0.0573 - accuracy: 0.9826 - val_loss: 0.0854 - val_accuracy: 0.9618\n",
      "Epoch 24/30\n",
      "1149/1149 [==============================] - 0s 185us/sample - loss: 0.0486 - accuracy: 0.9887 - val_loss: 0.0956 - val_accuracy: 0.9583\n",
      "Epoch 25/30\n",
      "1149/1149 [==============================] - 0s 211us/sample - loss: 0.0459 - accuracy: 0.9869 - val_loss: 0.0706 - val_accuracy: 0.9792\n",
      "Epoch 26/30\n",
      "1149/1149 [==============================] - 0s 242us/sample - loss: 0.0423 - accuracy: 0.9896 - val_loss: 0.0700 - val_accuracy: 0.9757\n",
      "Epoch 27/30\n",
      "1149/1149 [==============================] - 0s 214us/sample - loss: 0.0372 - accuracy: 0.9948 - val_loss: 0.0783 - val_accuracy: 0.9757\n",
      "Epoch 28/30\n",
      "1149/1149 [==============================] - 0s 195us/sample - loss: 0.0341 - accuracy: 0.9956 - val_loss: 0.0782 - val_accuracy: 0.9583\n",
      "Epoch 29/30\n",
      "1149/1149 [==============================] - 0s 185us/sample - loss: 0.0333 - accuracy: 0.9930 - val_loss: 0.0918 - val_accuracy: 0.9618\n",
      "Epoch 30/30\n",
      "1149/1149 [==============================] - 0s 190us/sample - loss: 0.0354 - accuracy: 0.9913 - val_loss: 0.1281 - val_accuracy: 0.9583\n"
     ]
    }
   ],
   "source": [
    "model = Sequential()\n",
    "model.add(Dense(12, activation='relu', input_dim=64))\n",
    "model.add(Dense(8, activation='relu'))\n",
    "model.add(Dense(4, activation='relu'))\n",
    "model.add(Dense(1, activation='sigmoid'))\n",
    "\n",
    "model.compile(optimizer='adam',\n",
    "              loss='binary_crossentropy',\n",
    "              metrics=['accuracy'])\n",
    "\n",
    "## YOUR CODE STARTING HERE\n",
    "results = model.fit(X_pure_train, y_pure_train, epochs=30, batch_size=10, validation_data=(X_val, y_val) )"
   ]
  },
  {
   "cell_type": "code",
   "execution_count": 27,
   "metadata": {},
   "outputs": [
    {
     "data": {
      "text/plain": [
       "{'loss': [0.6242083739051619,\n",
       "  0.35354561555816155,\n",
       "  0.2583392782313498,\n",
       "  0.21960177698907798,\n",
       "  0.19116059811323804,\n",
       "  0.16950367258179178,\n",
       "  0.15662250554495474,\n",
       "  0.1401132360883738,\n",
       "  0.12762056057016366,\n",
       "  0.12218268932020851,\n",
       "  0.10822696229840124,\n",
       "  0.099192377299012,\n",
       "  0.10029851842316612,\n",
       "  0.09730355113864697,\n",
       "  0.08862553624634034,\n",
       "  0.08235636695484275,\n",
       "  0.07434941886934744,\n",
       "  0.07259016389988146,\n",
       "  0.06632256386331481,\n",
       "  0.06079039467702108,\n",
       "  0.0653963591089858,\n",
       "  0.05906233967663242,\n",
       "  0.05731629456371738,\n",
       "  0.04862274788413785,\n",
       "  0.0459391339395057,\n",
       "  0.04228471422278597,\n",
       "  0.03724551819727105,\n",
       "  0.03408548015676799,\n",
       "  0.033289614869668686,\n",
       "  0.035406245606937434],\n",
       " 'accuracy': [0.69451696,\n",
       "  0.8720627,\n",
       "  0.8981723,\n",
       "  0.91122717,\n",
       "  0.9173194,\n",
       "  0.92341167,\n",
       "  0.9321149,\n",
       "  0.9321149,\n",
       "  0.9442994,\n",
       "  0.9416884,\n",
       "  0.9495213,\n",
       "  0.9538729,\n",
       "  0.9564839,\n",
       "  0.95474327,\n",
       "  0.95474327,\n",
       "  0.96692777,\n",
       "  0.97214967,\n",
       "  0.9765013,\n",
       "  0.9808529,\n",
       "  0.98172325,\n",
       "  0.9765013,\n",
       "  0.9808529,\n",
       "  0.98259354,\n",
       "  0.9886858,\n",
       "  0.98694515,\n",
       "  0.98955613,\n",
       "  0.9947781,\n",
       "  0.9956484,\n",
       "  0.9930374,\n",
       "  0.99129677],\n",
       " 'val_loss': [0.5121578847368559,\n",
       "  0.2860545870434079,\n",
       "  0.2526438162506868,\n",
       "  0.22702461310351887,\n",
       "  0.19249167885734803,\n",
       "  0.17494029361599436,\n",
       "  0.15870431824845987,\n",
       "  0.1400811834933443,\n",
       "  0.1347557103791688,\n",
       "  0.1328573112712345,\n",
       "  0.11707660161320949,\n",
       "  0.15286583475729762,\n",
       "  0.11145625835181111,\n",
       "  0.1466757688128079,\n",
       "  0.09144139191873062,\n",
       "  0.11468196796583167,\n",
       "  0.08907267526956275,\n",
       "  0.08408632886453739,\n",
       "  0.09479071762406319,\n",
       "  0.0972669185996185,\n",
       "  0.07960168893785319,\n",
       "  0.07934442523077855,\n",
       "  0.0853520387067369,\n",
       "  0.09564092460722248,\n",
       "  0.07062737767086623,\n",
       "  0.07001547876926553,\n",
       "  0.07832084381354637,\n",
       "  0.07822047697199094,\n",
       "  0.09177173613473617,\n",
       "  0.12811826749809066],\n",
       " 'val_accuracy': [0.8263889,\n",
       "  0.8888889,\n",
       "  0.8923611,\n",
       "  0.9131944,\n",
       "  0.9131944,\n",
       "  0.9201389,\n",
       "  0.9201389,\n",
       "  0.9305556,\n",
       "  0.9340278,\n",
       "  0.9375,\n",
       "  0.9305556,\n",
       "  0.9305556,\n",
       "  0.9444444,\n",
       "  0.9375,\n",
       "  0.9618056,\n",
       "  0.9409722,\n",
       "  0.9548611,\n",
       "  0.9756944,\n",
       "  0.9479167,\n",
       "  0.9548611,\n",
       "  0.9756944,\n",
       "  0.9722222,\n",
       "  0.9618056,\n",
       "  0.9583333,\n",
       "  0.9791667,\n",
       "  0.9756944,\n",
       "  0.9756944,\n",
       "  0.9583333,\n",
       "  0.9618056,\n",
       "  0.9583333]}"
      ]
     },
     "execution_count": 27,
     "metadata": {},
     "output_type": "execute_result"
    }
   ],
   "source": [
    "results.history"
   ]
  },
  {
   "cell_type": "code",
   "execution_count": 28,
   "metadata": {},
   "outputs": [
    {
     "name": "stdout",
     "output_type": "stream",
     "text": [
      "Train on 1149 samples, validate on 288 samples\n",
      "Epoch 1/30\n",
      "1149/1149 [==============================] - 1s 738us/sample - loss: 0.6842 - accuracy: 0.5640 - val_loss: 0.6552 - val_accuracy: 0.6354\n",
      "Epoch 2/30\n",
      "1149/1149 [==============================] - 0s 224us/sample - loss: 0.4218 - accuracy: 0.8442 - val_loss: 0.2995 - val_accuracy: 0.8958\n",
      "Epoch 3/30\n",
      "1149/1149 [==============================] - 0s 178us/sample - loss: 0.2712 - accuracy: 0.8947 - val_loss: 0.2398 - val_accuracy: 0.9097\n",
      "Epoch 4/30\n",
      "1149/1149 [==============================] - 0s 196us/sample - loss: 0.2344 - accuracy: 0.9069 - val_loss: 0.2169 - val_accuracy: 0.9271\n",
      "Epoch 5/30\n",
      "1149/1149 [==============================] - 0s 193us/sample - loss: 0.2063 - accuracy: 0.9164 - val_loss: 0.1966 - val_accuracy: 0.9306\n",
      "Epoch 6/30\n",
      "1149/1149 [==============================] - 0s 180us/sample - loss: 0.1879 - accuracy: 0.9234 - val_loss: 0.2155 - val_accuracy: 0.9132\n",
      "Epoch 7/30\n",
      "1149/1149 [==============================] - 0s 184us/sample - loss: 0.1666 - accuracy: 0.9295 - val_loss: 0.2147 - val_accuracy: 0.9132\n",
      "Epoch 8/30\n",
      "1149/1149 [==============================] - 0s 179us/sample - loss: 0.1555 - accuracy: 0.9347 - val_loss: 0.1594 - val_accuracy: 0.9479\n",
      "Epoch 9/30\n",
      "1149/1149 [==============================] - 0s 182us/sample - loss: 0.1419 - accuracy: 0.9434 - val_loss: 0.1373 - val_accuracy: 0.9479\n",
      "Epoch 10/30\n",
      "1149/1149 [==============================] - 0s 181us/sample - loss: 0.1304 - accuracy: 0.9460 - val_loss: 0.1612 - val_accuracy: 0.9375\n",
      "Epoch 11/30\n",
      "1149/1149 [==============================] - 0s 179us/sample - loss: 0.1205 - accuracy: 0.9530 - val_loss: 0.1277 - val_accuracy: 0.9514\n",
      "Epoch 12/30\n",
      "1149/1149 [==============================] - 0s 184us/sample - loss: 0.1135 - accuracy: 0.9574 - val_loss: 0.1209 - val_accuracy: 0.9514\n",
      "Epoch 13/30\n",
      "1149/1149 [==============================] - 0s 177us/sample - loss: 0.1049 - accuracy: 0.9591 - val_loss: 0.1181 - val_accuracy: 0.9549\n",
      "Epoch 14/30\n",
      "1149/1149 [==============================] - 0s 193us/sample - loss: 0.0987 - accuracy: 0.9617 - val_loss: 0.1212 - val_accuracy: 0.9444\n",
      "Epoch 15/30\n",
      "1149/1149 [==============================] - 0s 176us/sample - loss: 0.0973 - accuracy: 0.9643 - val_loss: 0.1110 - val_accuracy: 0.9583\n",
      "Epoch 16/30\n",
      "1149/1149 [==============================] - 0s 179us/sample - loss: 0.0850 - accuracy: 0.9713 - val_loss: 0.1036 - val_accuracy: 0.9618\n",
      "Epoch 17/30\n",
      "1149/1149 [==============================] - 0s 178us/sample - loss: 0.0800 - accuracy: 0.9730 - val_loss: 0.1012 - val_accuracy: 0.9618\n",
      "Epoch 18/30\n",
      "1149/1149 [==============================] - 0s 173us/sample - loss: 0.0728 - accuracy: 0.9730 - val_loss: 0.1418 - val_accuracy: 0.9410\n",
      "Epoch 19/30\n",
      "1149/1149 [==============================] - 0s 197us/sample - loss: 0.0699 - accuracy: 0.9739 - val_loss: 0.1017 - val_accuracy: 0.9688\n",
      "Epoch 20/30\n",
      "1149/1149 [==============================] - 0s 184us/sample - loss: 0.0653 - accuracy: 0.9774 - val_loss: 0.1123 - val_accuracy: 0.9514\n",
      "Epoch 21/30\n",
      "1149/1149 [==============================] - 0s 202us/sample - loss: 0.0587 - accuracy: 0.9800 - val_loss: 0.0955 - val_accuracy: 0.9618\n",
      "Epoch 22/30\n",
      "1149/1149 [==============================] - 0s 207us/sample - loss: 0.0535 - accuracy: 0.9817 - val_loss: 0.0888 - val_accuracy: 0.9653\n",
      "Epoch 23/30\n",
      "1149/1149 [==============================] - 0s 180us/sample - loss: 0.0507 - accuracy: 0.9774 - val_loss: 0.0943 - val_accuracy: 0.9618\n",
      "Epoch 24/30\n",
      "1149/1149 [==============================] - 0s 181us/sample - loss: 0.0514 - accuracy: 0.9843 - val_loss: 0.0932 - val_accuracy: 0.9653\n",
      "Epoch 25/30\n",
      "1149/1149 [==============================] - 0s 177us/sample - loss: 0.0458 - accuracy: 0.9809 - val_loss: 0.0950 - val_accuracy: 0.9618\n",
      "Epoch 26/30\n",
      "1149/1149 [==============================] - 0s 188us/sample - loss: 0.0498 - accuracy: 0.9800 - val_loss: 0.0939 - val_accuracy: 0.9688\n",
      "Epoch 27/30\n",
      "1149/1149 [==============================] - 0s 193us/sample - loss: 0.0416 - accuracy: 0.9869 - val_loss: 0.0928 - val_accuracy: 0.9688\n",
      "Epoch 28/30\n",
      "1149/1149 [==============================] - 0s 195us/sample - loss: 0.0386 - accuracy: 0.9878 - val_loss: 0.0990 - val_accuracy: 0.9653\n",
      "Epoch 29/30\n",
      "1149/1149 [==============================] - 0s 188us/sample - loss: 0.0366 - accuracy: 0.9869 - val_loss: 0.1151 - val_accuracy: 0.9549\n",
      "Epoch 30/30\n",
      "1149/1149 [==============================] - 0s 186us/sample - loss: 0.0358 - accuracy: 0.9887 - val_loss: 0.0949 - val_accuracy: 0.9688\n"
     ]
    },
    {
     "data": {
      "image/png": "[encoded data removed]",
      "text/plain": [
       "<Figure size 720x360 with 2 Axes>"
      ]
     },
     "metadata": {
      "needs_background": "light"
     },
     "output_type": "display_data"
    }
   ],
   "source": [
    "model = Sequential()\n",
    "model.add(Dense(12, activation='relu', input_dim=64))\n",
    "model.add(Dense(8, activation='relu'))\n",
    "model.add(Dense(4, activation='relu'))\n",
    "model.add(Dense(1, activation='sigmoid'))\n",
    "\n",
    "model.compile(optimizer='adam',\n",
    "              loss='binary_crossentropy',\n",
    "              metrics=['accuracy'])\n",
    "\n",
    "## YOUR CODE STARTING HERE\n",
    "results = model.fit(X_pure_train, y_pure_train, epochs=30, batch_size=10, validation_data=(X_val, y_val) )\n",
    "\n",
    "train_loss = results.history['loss']\n",
    "train_acc = results.history['accuracy']\n",
    "val_loss = results.history['val_loss']\n",
    "val_acc = results.history['val_accuracy']\n",
    "\n",
    "fig, (ax1, ax2) = plt.subplots(1, 2, figsize=(10, 5))\n",
    "sns.lineplot(x=results.epoch, y=train_loss, ax=ax1, label='train_loss')\n",
    "sns.lineplot(x=results.epoch, y=train_acc, ax=ax2, label='train_accuracy')\n",
    "\n",
    "sns.lineplot(x=results.epoch, y=val_loss, ax=ax1, label='val_loss')\n",
    "sns.lineplot(x=results.epoch, y=val_acc, ax=ax2, label='val_accuracy');"
   ]
  },
  {
   "cell_type": "markdown",
   "metadata": {},
   "source": [
    "<details>\n",
    "    <summary>One answer here</summary>\n",
    "<code>model = Sequential()\n",
    "model.add(Dense(12, activation='relu', input_dim=64))\n",
    "model.add(Dense(8, activation='relu'))\n",
    "model.add(Dense(4, activation='relu'))\n",
    "model.add(Dense(1, activation='sigmoid'))\n",
    "model.compile(optimizer='adam',\n",
    "              loss='binary_crossentropy',\n",
    "              metrics=['accuracy'])\n",
    "results = model.fit(X_pure_train, y_pure_train,\n",
    "                   validation_data=(X_val, y_val),\n",
    "                   epochs=30, batch_size=10)\n",
    "train_loss = results.history['loss']\n",
    "train_acc = results.history['accuracy']\n",
    "val_loss = results.history['val_loss']\n",
    "val_acc = results.history['val_accuracy']\n",
    "fig, (ax1, ax2) = plt.subplots(1, 2, figsize=(10, 5))\n",
    "sns.lineplot(x=results.epoch, y=train_loss, ax=ax1, label='train_loss')\n",
    "sns.lineplot(x=results.epoch, y=train_acc, ax=ax2, label='train_accuracy')\n",
    "sns.lineplot(x=results.epoch, y=val_loss, ax=ax1, label='val_loss')\n",
    "sns.lineplot(x=results.epoch, y=val_acc, ax=ax2, label='val_accuracy');</code>\n",
    "</details>"
   ]
  },
  {
   "cell_type": "code",
   "execution_count": null,
   "metadata": {},
   "outputs": [],
   "source": [
    "results.history['val_accuracy'][-1]"
   ]
  },
  {
   "cell_type": "markdown",
   "metadata": {},
   "source": [
    "## Connecting with `sklearn`\n",
    "\n",
    "The `keras.wrappers` submodule means that we can turn `keras` models into estimators that `sklearn` tools will recognize."
   ]
  },
  {
   "cell_type": "code",
   "execution_count": 30,
   "metadata": {},
   "outputs": [
    {
     "ename": "TypeError",
     "evalue": "If no scoring is specified, the estimator passed should have a 'score' method. The estimator <tensorflow.python.keras.engine.sequential.Sequential object at 0x7fe68c88f850> does not.",
     "output_type": "error",
     "traceback": [
      "\u001b[0;31m---------------------------------------------------------------------------\u001b[0m",
      "\u001b[0;31mTypeError\u001b[0m                                 Traceback (most recent call last)",
      "\u001b[0;32m/var/folders/9y/6072zsmd2bb9h8dwyhg56wn40000gp/T/ipykernel_33408/1197616762.py\u001b[0m in \u001b[0;36m<module>\u001b[0;34m\u001b[0m\n\u001b[1;32m      1\u001b[0m \u001b[0;31m# This will throw an error.\u001b[0m\u001b[0;34m\u001b[0m\u001b[0;34m\u001b[0m\u001b[0;34m\u001b[0m\u001b[0m\n\u001b[1;32m      2\u001b[0m \u001b[0;34m\u001b[0m\u001b[0m\n\u001b[0;32m----> 3\u001b[0;31m \u001b[0mcross_val_score\u001b[0m\u001b[0;34m(\u001b[0m\u001b[0mmodel\u001b[0m\u001b[0;34m,\u001b[0m \u001b[0mX_pure_train\u001b[0m\u001b[0;34m,\u001b[0m \u001b[0my_pure_train\u001b[0m\u001b[0;34m)\u001b[0m\u001b[0;34m\u001b[0m\u001b[0;34m\u001b[0m\u001b[0m\n\u001b[0m",
      "\u001b[0;32m~/opt/anaconda3/envs/tf/lib/python3.7/site-packages/sklearn/model_selection/_validation.py\u001b[0m in \u001b[0;36mcross_val_score\u001b[0;34m(estimator, X, y, groups, scoring, cv, n_jobs, verbose, fit_params, pre_dispatch, error_score)\u001b[0m\n\u001b[1;32m    505\u001b[0m     \"\"\"\n\u001b[1;32m    506\u001b[0m     \u001b[0;31m# To ensure multimetric format is not supported\u001b[0m\u001b[0;34m\u001b[0m\u001b[0;34m\u001b[0m\u001b[0;34m\u001b[0m\u001b[0m\n\u001b[0;32m--> 507\u001b[0;31m     \u001b[0mscorer\u001b[0m \u001b[0;34m=\u001b[0m \u001b[0mcheck_scoring\u001b[0m\u001b[0;34m(\u001b[0m\u001b[0mestimator\u001b[0m\u001b[0;34m,\u001b[0m \u001b[0mscoring\u001b[0m\u001b[0;34m=\u001b[0m\u001b[0mscoring\u001b[0m\u001b[0;34m)\u001b[0m\u001b[0;34m\u001b[0m\u001b[0;34m\u001b[0m\u001b[0m\n\u001b[0m\u001b[1;32m    508\u001b[0m \u001b[0;34m\u001b[0m\u001b[0m\n\u001b[1;32m    509\u001b[0m     cv_results = cross_validate(\n",
      "\u001b[0;32m~/opt/anaconda3/envs/tf/lib/python3.7/site-packages/sklearn/metrics/_scorer.py\u001b[0m in \u001b[0;36mcheck_scoring\u001b[0;34m(estimator, scoring, allow_none)\u001b[0m\n\u001b[1;32m    477\u001b[0m             raise TypeError(\n\u001b[1;32m    478\u001b[0m                 \u001b[0;34m\"If no scoring is specified, the estimator passed should \"\u001b[0m\u001b[0;34m\u001b[0m\u001b[0;34m\u001b[0m\u001b[0m\n\u001b[0;32m--> 479\u001b[0;31m                 \u001b[0;34m\"have a 'score' method. The estimator %r does not.\"\u001b[0m \u001b[0;34m%\u001b[0m \u001b[0mestimator\u001b[0m\u001b[0;34m\u001b[0m\u001b[0;34m\u001b[0m\u001b[0m\n\u001b[0m\u001b[1;32m    480\u001b[0m             )\n\u001b[1;32m    481\u001b[0m     \u001b[0;32melif\u001b[0m \u001b[0misinstance\u001b[0m\u001b[0;34m(\u001b[0m\u001b[0mscoring\u001b[0m\u001b[0;34m,\u001b[0m \u001b[0mIterable\u001b[0m\u001b[0;34m)\u001b[0m\u001b[0;34m:\u001b[0m\u001b[0;34m\u001b[0m\u001b[0;34m\u001b[0m\u001b[0m\n",
      "\u001b[0;31mTypeError\u001b[0m: If no scoring is specified, the estimator passed should have a 'score' method. The estimator <tensorflow.python.keras.engine.sequential.Sequential object at 0x7fe68c88f850> does not."
     ]
    }
   ],
   "source": [
    "# This will throw an error.\n",
    "\n",
    "cross_val_score(model, X_pure_train, y_pure_train)"
   ]
  },
  {
   "cell_type": "code",
   "execution_count": 34,
   "metadata": {},
   "outputs": [
    {
     "data": {
      "text/plain": [
       "tensorflow.python.keras.engine.sequential.Sequential"
      ]
     },
     "execution_count": 34,
     "metadata": {},
     "output_type": "execute_result"
    }
   ],
   "source": [
    "type(model)"
   ]
  },
  {
   "cell_type": "markdown",
   "metadata": {},
   "source": [
    "We will now wrap our keras model as a Scikit-Learn estimator"
   ]
  },
  {
   "cell_type": "code",
   "execution_count": 31,
   "metadata": {},
   "outputs": [],
   "source": [
    "def build_model():\n",
    "    model = Sequential()\n",
    "    model.add(Dense(12, activation='relu', input_dim=64))\n",
    "    model.add(Dense(8, activation='relu'))\n",
    "    model.add(Dense(4, activation='relu'))\n",
    "    model.add(Dense(1, activation='sigmoid'))\n",
    "\n",
    "    model.compile(optimizer='adam',\n",
    "                  loss='binary_crossentropy',\n",
    "                  metrics=['accuracy'])\n",
    "    \n",
    "    return model"
   ]
  },
  {
   "cell_type": "code",
   "execution_count": 32,
   "metadata": {},
   "outputs": [],
   "source": [
    "#Create a Scikit-learn estimator\n",
    "keras_model = scikit_learn.KerasClassifier(build_fn = build_model, epochs=50, batch_size=32, verbose=2)"
   ]
  },
  {
   "cell_type": "code",
   "execution_count": 33,
   "metadata": {},
   "outputs": [
    {
     "data": {
      "text/plain": [
       "tensorflow.python.keras.wrappers.scikit_learn.KerasClassifier"
      ]
     },
     "execution_count": 33,
     "metadata": {},
     "output_type": "execute_result"
    }
   ],
   "source": [
    "type(keras_model)"
   ]
  },
  {
   "cell_type": "markdown",
   "metadata": {},
   "source": [
    "Now we can use sklearn methods like cross_val_score"
   ]
  },
  {
   "cell_type": "code",
   "execution_count": 35,
   "metadata": {},
   "outputs": [
    {
     "name": "stdout",
     "output_type": "stream",
     "text": [
      "Train on 919 samples\n",
      "Epoch 1/50\n",
      "919/919 - 1s - loss: 0.6817 - accuracy: 0.5060\n",
      "Epoch 2/50\n",
      "919/919 - 0s - loss: 0.6574 - accuracy: 0.6268\n",
      "Epoch 3/50\n",
      "919/919 - 0s - loss: 0.6169 - accuracy: 0.6605\n",
      "Epoch 4/50\n",
      "919/919 - 0s - loss: 0.5547 - accuracy: 0.7922\n",
      "Epoch 5/50\n",
      "919/919 - 0s - loss: 0.4735 - accuracy: 0.8400\n",
      "Epoch 6/50\n",
      "919/919 - 0s - loss: 0.3862 - accuracy: 0.8694\n",
      "Epoch 7/50\n",
      "919/919 - 0s - loss: 0.3244 - accuracy: 0.8836\n",
      "Epoch 8/50\n",
      "919/919 - 0s - loss: 0.2815 - accuracy: 0.8999\n",
      "Epoch 9/50\n",
      "919/919 - 0s - loss: 0.2589 - accuracy: 0.8988\n",
      "Epoch 10/50\n",
      "919/919 - 0s - loss: 0.2288 - accuracy: 0.9140\n",
      "Epoch 11/50\n",
      "919/919 - 0s - loss: 0.2044 - accuracy: 0.9195\n",
      "Epoch 12/50\n",
      "919/919 - 0s - loss: 0.1902 - accuracy: 0.9271\n",
      "Epoch 13/50\n",
      "919/919 - 0s - loss: 0.1718 - accuracy: 0.9282\n",
      "Epoch 14/50\n",
      "919/919 - 0s - loss: 0.1589 - accuracy: 0.9347\n",
      "Epoch 15/50\n",
      "919/919 - 0s - loss: 0.1547 - accuracy: 0.9347\n",
      "Epoch 16/50\n",
      "919/919 - 0s - loss: 0.1402 - accuracy: 0.9391\n",
      "Epoch 17/50\n",
      "919/919 - 0s - loss: 0.1336 - accuracy: 0.9358\n",
      "Epoch 18/50\n",
      "919/919 - 0s - loss: 0.1288 - accuracy: 0.9434\n",
      "Epoch 19/50\n",
      "919/919 - 0s - loss: 0.1193 - accuracy: 0.9521\n",
      "Epoch 20/50\n",
      "919/919 - 0s - loss: 0.1139 - accuracy: 0.9499\n",
      "Epoch 21/50\n",
      "919/919 - 0s - loss: 0.1105 - accuracy: 0.9565\n",
      "Epoch 22/50\n",
      "919/919 - 0s - loss: 0.1067 - accuracy: 0.9565\n",
      "Epoch 23/50\n",
      "919/919 - 0s - loss: 0.1046 - accuracy: 0.9521\n",
      "Epoch 24/50\n",
      "919/919 - 0s - loss: 0.0965 - accuracy: 0.9565\n",
      "Epoch 25/50\n",
      "919/919 - 0s - loss: 0.0939 - accuracy: 0.9608\n",
      "Epoch 26/50\n",
      "919/919 - 0s - loss: 0.0930 - accuracy: 0.9608\n",
      "Epoch 27/50\n",
      "919/919 - 0s - loss: 0.0892 - accuracy: 0.9608\n",
      "Epoch 28/50\n",
      "919/919 - 0s - loss: 0.0864 - accuracy: 0.9630\n",
      "Epoch 29/50\n",
      "919/919 - 0s - loss: 0.0831 - accuracy: 0.9652\n",
      "Epoch 30/50\n",
      "919/919 - 0s - loss: 0.0826 - accuracy: 0.9674\n",
      "Epoch 31/50\n",
      "919/919 - 0s - loss: 0.0763 - accuracy: 0.9684\n",
      "Epoch 32/50\n",
      "919/919 - 0s - loss: 0.0769 - accuracy: 0.9717\n",
      "Epoch 33/50\n",
      "919/919 - 0s - loss: 0.0720 - accuracy: 0.9717\n",
      "Epoch 34/50\n",
      "919/919 - 0s - loss: 0.0730 - accuracy: 0.9695\n",
      "Epoch 35/50\n",
      "919/919 - 0s - loss: 0.0722 - accuracy: 0.9695\n",
      "Epoch 36/50\n",
      "919/919 - 0s - loss: 0.0682 - accuracy: 0.9695\n",
      "Epoch 37/50\n",
      "919/919 - 0s - loss: 0.0667 - accuracy: 0.9771\n",
      "Epoch 38/50\n",
      "919/919 - 0s - loss: 0.0647 - accuracy: 0.9728\n",
      "Epoch 39/50\n",
      "919/919 - 0s - loss: 0.0631 - accuracy: 0.9761\n",
      "Epoch 40/50\n",
      "919/919 - 0s - loss: 0.0584 - accuracy: 0.9793\n",
      "Epoch 41/50\n",
      "919/919 - 0s - loss: 0.0571 - accuracy: 0.9782\n",
      "Epoch 42/50\n",
      "919/919 - 0s - loss: 0.0589 - accuracy: 0.9771\n",
      "Epoch 43/50\n",
      "919/919 - 0s - loss: 0.0585 - accuracy: 0.9750\n",
      "Epoch 44/50\n",
      "919/919 - 0s - loss: 0.0533 - accuracy: 0.9782\n",
      "Epoch 45/50\n",
      "919/919 - 0s - loss: 0.0552 - accuracy: 0.9782\n",
      "Epoch 46/50\n",
      "919/919 - 0s - loss: 0.0546 - accuracy: 0.9793\n",
      "Epoch 47/50\n",
      "919/919 - 0s - loss: 0.0514 - accuracy: 0.9826\n",
      "Epoch 48/50\n",
      "919/919 - 0s - loss: 0.0500 - accuracy: 0.9804\n",
      "Epoch 49/50\n",
      "919/919 - 0s - loss: 0.0475 - accuracy: 0.9761\n",
      "Epoch 50/50\n",
      "919/919 - 0s - loss: 0.0494 - accuracy: 0.9804\n",
      "230/1 - 0s - loss: 0.0950 - accuracy: 0.9304\n",
      "Train on 919 samples\n",
      "Epoch 1/50\n",
      "919/919 - 1s - loss: 0.6735 - accuracy: 0.5985\n",
      "Epoch 2/50\n",
      "919/919 - 0s - loss: 0.6370 - accuracy: 0.6877\n",
      "Epoch 3/50\n",
      "919/919 - 0s - loss: 0.5929 - accuracy: 0.7410\n",
      "Epoch 4/50\n",
      "919/919 - 0s - loss: 0.5389 - accuracy: 0.7867\n",
      "Epoch 5/50\n",
      "919/919 - 0s - loss: 0.4667 - accuracy: 0.8607\n",
      "Epoch 6/50\n",
      "919/919 - 0s - loss: 0.3936 - accuracy: 0.8803\n",
      "Epoch 7/50\n",
      "919/919 - 0s - loss: 0.3393 - accuracy: 0.8857\n",
      "Epoch 8/50\n",
      "919/919 - 0s - loss: 0.2963 - accuracy: 0.8945\n",
      "Epoch 9/50\n",
      "919/919 - 0s - loss: 0.2637 - accuracy: 0.9075\n",
      "Epoch 10/50\n",
      "919/919 - 0s - loss: 0.2407 - accuracy: 0.9064\n",
      "Epoch 11/50\n",
      "919/919 - 0s - loss: 0.2237 - accuracy: 0.9173\n",
      "Epoch 12/50\n",
      "919/919 - 0s - loss: 0.2102 - accuracy: 0.9184\n",
      "Epoch 13/50\n",
      "919/919 - 0s - loss: 0.1982 - accuracy: 0.9184\n",
      "Epoch 14/50\n",
      "919/919 - 0s - loss: 0.1887 - accuracy: 0.9249\n",
      "Epoch 15/50\n",
      "919/919 - 0s - loss: 0.1745 - accuracy: 0.9314\n",
      "Epoch 16/50\n",
      "919/919 - 0s - loss: 0.1639 - accuracy: 0.9293\n",
      "Epoch 17/50\n",
      "919/919 - 0s - loss: 0.1562 - accuracy: 0.9358\n",
      "Epoch 18/50\n",
      "919/919 - 0s - loss: 0.1476 - accuracy: 0.9391\n",
      "Epoch 19/50\n",
      "919/919 - 0s - loss: 0.1403 - accuracy: 0.9380\n",
      "Epoch 20/50\n",
      "919/919 - 0s - loss: 0.1319 - accuracy: 0.9412\n",
      "Epoch 21/50\n",
      "919/919 - 0s - loss: 0.1257 - accuracy: 0.9445\n",
      "Epoch 22/50\n",
      "919/919 - 0s - loss: 0.1180 - accuracy: 0.9478\n",
      "Epoch 23/50\n",
      "919/919 - 0s - loss: 0.1106 - accuracy: 0.9576\n",
      "Epoch 24/50\n",
      "919/919 - 0s - loss: 0.1074 - accuracy: 0.9554\n",
      "Epoch 25/50\n",
      "919/919 - 0s - loss: 0.0987 - accuracy: 0.9630\n",
      "Epoch 26/50\n",
      "919/919 - 0s - loss: 0.0960 - accuracy: 0.9597\n",
      "Epoch 27/50\n",
      "919/919 - 0s - loss: 0.0958 - accuracy: 0.9597\n",
      "Epoch 28/50\n",
      "919/919 - 0s - loss: 0.0833 - accuracy: 0.9717\n",
      "Epoch 29/50\n",
      "919/919 - 0s - loss: 0.0776 - accuracy: 0.9717\n",
      "Epoch 30/50\n",
      "919/919 - 0s - loss: 0.0760 - accuracy: 0.9761\n",
      "Epoch 31/50\n",
      "919/919 - 0s - loss: 0.0705 - accuracy: 0.9761\n",
      "Epoch 32/50\n",
      "919/919 - 0s - loss: 0.0672 - accuracy: 0.9761\n",
      "Epoch 33/50\n",
      "919/919 - 0s - loss: 0.0713 - accuracy: 0.9717\n",
      "Epoch 34/50\n",
      "919/919 - 0s - loss: 0.0653 - accuracy: 0.9804\n",
      "Epoch 35/50\n",
      "919/919 - 0s - loss: 0.0644 - accuracy: 0.9793\n",
      "Epoch 36/50\n",
      "919/919 - 0s - loss: 0.0579 - accuracy: 0.9782\n",
      "Epoch 37/50\n",
      "919/919 - 0s - loss: 0.0535 - accuracy: 0.9848\n",
      "Epoch 38/50\n",
      "919/919 - 0s - loss: 0.0517 - accuracy: 0.9815\n",
      "Epoch 39/50\n",
      "919/919 - 0s - loss: 0.0487 - accuracy: 0.9848\n",
      "Epoch 40/50\n",
      "919/919 - 0s - loss: 0.0475 - accuracy: 0.9848\n",
      "Epoch 41/50\n",
      "919/919 - 0s - loss: 0.0446 - accuracy: 0.9859\n",
      "Epoch 42/50\n",
      "919/919 - 0s - loss: 0.0426 - accuracy: 0.9859\n",
      "Epoch 43/50\n",
      "919/919 - 0s - loss: 0.0411 - accuracy: 0.9848\n",
      "Epoch 44/50\n",
      "919/919 - 0s - loss: 0.0384 - accuracy: 0.9869\n",
      "Epoch 45/50\n",
      "919/919 - 0s - loss: 0.0360 - accuracy: 0.9902\n",
      "Epoch 46/50\n",
      "919/919 - 0s - loss: 0.0344 - accuracy: 0.9880\n",
      "Epoch 47/50\n",
      "919/919 - 0s - loss: 0.0348 - accuracy: 0.9880\n",
      "Epoch 48/50\n",
      "919/919 - 0s - loss: 0.0318 - accuracy: 0.9913\n",
      "Epoch 49/50\n",
      "919/919 - 0s - loss: 0.0361 - accuracy: 0.9859\n",
      "Epoch 50/50\n",
      "919/919 - 0s - loss: 0.0296 - accuracy: 0.9913\n",
      "230/1 - 0s - loss: 0.0430 - accuracy: 0.9696\n",
      "Train on 919 samples\n",
      "Epoch 1/50\n",
      "919/919 - 1s - loss: 0.6755 - accuracy: 0.5288\n",
      "Epoch 2/50\n",
      "919/919 - 0s - loss: 0.6431 - accuracy: 0.5854\n",
      "Epoch 3/50\n",
      "919/919 - 0s - loss: 0.5971 - accuracy: 0.6670\n",
      "Epoch 4/50\n",
      "919/919 - 0s - loss: 0.5497 - accuracy: 0.7573\n",
      "Epoch 5/50\n",
      "919/919 - 0s - loss: 0.5119 - accuracy: 0.8150\n",
      "Epoch 6/50\n",
      "919/919 - 0s - loss: 0.4865 - accuracy: 0.8520\n",
      "Epoch 7/50\n",
      "919/919 - 0s - loss: 0.4642 - accuracy: 0.8596\n",
      "Epoch 8/50\n",
      "919/919 - 0s - loss: 0.4441 - accuracy: 0.8781\n",
      "Epoch 9/50\n",
      "919/919 - 0s - loss: 0.4284 - accuracy: 0.8879\n",
      "Epoch 10/50\n",
      "919/919 - 0s - loss: 0.4091 - accuracy: 0.9010\n",
      "Epoch 11/50\n",
      "919/919 - 0s - loss: 0.3958 - accuracy: 0.9119\n",
      "Epoch 12/50\n",
      "919/919 - 0s - loss: 0.3772 - accuracy: 0.9217\n",
      "Epoch 13/50\n",
      "919/919 - 0s - loss: 0.3609 - accuracy: 0.9314\n",
      "Epoch 14/50\n",
      "919/919 - 0s - loss: 0.3522 - accuracy: 0.9260\n",
      "Epoch 15/50\n",
      "919/919 - 0s - loss: 0.3351 - accuracy: 0.9423\n",
      "Epoch 16/50\n",
      "919/919 - 0s - loss: 0.3238 - accuracy: 0.9510\n",
      "Epoch 17/50\n",
      "919/919 - 0s - loss: 0.3131 - accuracy: 0.9499\n",
      "Epoch 18/50\n",
      "919/919 - 0s - loss: 0.3047 - accuracy: 0.9554\n",
      "Epoch 19/50\n",
      "919/919 - 0s - loss: 0.2939 - accuracy: 0.9587\n",
      "Epoch 20/50\n",
      "919/919 - 0s - loss: 0.2857 - accuracy: 0.9619\n",
      "Epoch 21/50\n",
      "919/919 - 0s - loss: 0.2778 - accuracy: 0.9630\n",
      "Epoch 22/50\n",
      "919/919 - 0s - loss: 0.2686 - accuracy: 0.9663\n",
      "Epoch 23/50\n",
      "919/919 - 0s - loss: 0.2626 - accuracy: 0.9695\n",
      "Epoch 24/50\n",
      "919/919 - 0s - loss: 0.2549 - accuracy: 0.9695\n",
      "Epoch 25/50\n",
      "919/919 - 0s - loss: 0.2484 - accuracy: 0.9739\n",
      "Epoch 26/50\n",
      "919/919 - 0s - loss: 0.2410 - accuracy: 0.9771\n",
      "Epoch 27/50\n",
      "919/919 - 0s - loss: 0.2372 - accuracy: 0.9739\n",
      "Epoch 28/50\n",
      "919/919 - 0s - loss: 0.2292 - accuracy: 0.9815\n",
      "Epoch 29/50\n",
      "919/919 - 0s - loss: 0.2230 - accuracy: 0.9771\n",
      "Epoch 30/50\n",
      "919/919 - 0s - loss: 0.2172 - accuracy: 0.9804\n",
      "Epoch 31/50\n",
      "919/919 - 0s - loss: 0.2112 - accuracy: 0.9804\n",
      "Epoch 32/50\n",
      "919/919 - 0s - loss: 0.2055 - accuracy: 0.9815\n",
      "Epoch 33/50\n",
      "919/919 - 0s - loss: 0.2016 - accuracy: 0.9837\n",
      "Epoch 34/50\n",
      "919/919 - 0s - loss: 0.1961 - accuracy: 0.9826\n",
      "Epoch 35/50\n",
      "919/919 - 0s - loss: 0.1919 - accuracy: 0.9837\n",
      "Epoch 36/50\n",
      "919/919 - 0s - loss: 0.1869 - accuracy: 0.9859\n",
      "Epoch 37/50\n",
      "919/919 - 0s - loss: 0.1828 - accuracy: 0.9869\n"
     ]
    },
    {
     "name": "stdout",
     "output_type": "stream",
     "text": [
      "Epoch 38/50\n",
      "919/919 - 0s - loss: 0.1793 - accuracy: 0.9859\n",
      "Epoch 39/50\n",
      "919/919 - 0s - loss: 0.1736 - accuracy: 0.9891\n",
      "Epoch 40/50\n",
      "919/919 - 0s - loss: 0.1745 - accuracy: 0.9848\n",
      "Epoch 41/50\n",
      "919/919 - 0s - loss: 0.1671 - accuracy: 0.9880\n",
      "Epoch 42/50\n",
      "919/919 - 0s - loss: 0.1635 - accuracy: 0.9891\n",
      "Epoch 43/50\n",
      "919/919 - 0s - loss: 0.1603 - accuracy: 0.9891\n",
      "Epoch 44/50\n",
      "919/919 - 0s - loss: 0.1553 - accuracy: 0.9924\n",
      "Epoch 45/50\n",
      "919/919 - 0s - loss: 0.1515 - accuracy: 0.9924\n",
      "Epoch 46/50\n",
      "919/919 - 0s - loss: 0.1502 - accuracy: 0.9902\n",
      "Epoch 47/50\n",
      "919/919 - 0s - loss: 0.1460 - accuracy: 0.9902\n",
      "Epoch 48/50\n",
      "919/919 - 0s - loss: 0.1427 - accuracy: 0.9924\n",
      "Epoch 49/50\n",
      "919/919 - 0s - loss: 0.1396 - accuracy: 0.9935\n",
      "Epoch 50/50\n",
      "919/919 - 0s - loss: 0.1385 - accuracy: 0.9924\n",
      "230/1 - 0s - loss: 0.1848 - accuracy: 0.9739\n",
      "Train on 919 samples\n",
      "Epoch 1/50\n",
      "919/919 - 1s - loss: 0.6779 - accuracy: 0.5462\n",
      "Epoch 2/50\n",
      "919/919 - 0s - loss: 0.6332 - accuracy: 0.6257\n",
      "Epoch 3/50\n",
      "919/919 - 0s - loss: 0.5782 - accuracy: 0.7552\n",
      "Epoch 4/50\n",
      "919/919 - 0s - loss: 0.5197 - accuracy: 0.8411\n",
      "Epoch 5/50\n",
      "919/919 - 0s - loss: 0.4610 - accuracy: 0.8738\n",
      "Epoch 6/50\n",
      "919/919 - 0s - loss: 0.4082 - accuracy: 0.8836\n",
      "Epoch 7/50\n",
      "919/919 - 0s - loss: 0.3464 - accuracy: 0.8955\n",
      "Epoch 8/50\n",
      "919/919 - 0s - loss: 0.3019 - accuracy: 0.9021\n",
      "Epoch 9/50\n",
      "919/919 - 0s - loss: 0.2570 - accuracy: 0.9053\n",
      "Epoch 10/50\n",
      "919/919 - 0s - loss: 0.2316 - accuracy: 0.9119\n",
      "Epoch 11/50\n",
      "919/919 - 0s - loss: 0.2180 - accuracy: 0.9162\n",
      "Epoch 12/50\n",
      "919/919 - 0s - loss: 0.1903 - accuracy: 0.9238\n",
      "Epoch 13/50\n",
      "919/919 - 0s - loss: 0.1774 - accuracy: 0.9293\n",
      "Epoch 14/50\n",
      "919/919 - 0s - loss: 0.1652 - accuracy: 0.9325\n",
      "Epoch 15/50\n",
      "919/919 - 0s - loss: 0.1541 - accuracy: 0.9402\n",
      "Epoch 16/50\n",
      "919/919 - 0s - loss: 0.1419 - accuracy: 0.9434\n",
      "Epoch 17/50\n",
      "919/919 - 0s - loss: 0.1304 - accuracy: 0.9532\n",
      "Epoch 18/50\n",
      "919/919 - 0s - loss: 0.1283 - accuracy: 0.9489\n",
      "Epoch 19/50\n",
      "919/919 - 0s - loss: 0.1207 - accuracy: 0.9543\n",
      "Epoch 20/50\n",
      "919/919 - 0s - loss: 0.1097 - accuracy: 0.9608\n",
      "Epoch 21/50\n",
      "919/919 - 0s - loss: 0.1035 - accuracy: 0.9619\n",
      "Epoch 22/50\n",
      "919/919 - 0s - loss: 0.1006 - accuracy: 0.9608\n",
      "Epoch 23/50\n",
      "919/919 - 0s - loss: 0.0956 - accuracy: 0.9619\n",
      "Epoch 24/50\n",
      "919/919 - 0s - loss: 0.0896 - accuracy: 0.9695\n",
      "Epoch 25/50\n",
      "919/919 - 0s - loss: 0.0847 - accuracy: 0.9717\n",
      "Epoch 26/50\n",
      "919/919 - 0s - loss: 0.0813 - accuracy: 0.9750\n",
      "Epoch 27/50\n",
      "919/919 - 0s - loss: 0.0763 - accuracy: 0.9728\n",
      "Epoch 28/50\n",
      "919/919 - 0s - loss: 0.0741 - accuracy: 0.9717\n",
      "Epoch 29/50\n",
      "919/919 - 0s - loss: 0.0670 - accuracy: 0.9804\n",
      "Epoch 30/50\n",
      "919/919 - 0s - loss: 0.0689 - accuracy: 0.9739\n",
      "Epoch 31/50\n",
      "919/919 - 0s - loss: 0.0651 - accuracy: 0.9761\n",
      "Epoch 32/50\n",
      "919/919 - 0s - loss: 0.0588 - accuracy: 0.9869\n",
      "Epoch 33/50\n",
      "919/919 - 0s - loss: 0.0585 - accuracy: 0.9815\n",
      "Epoch 34/50\n",
      "919/919 - 0s - loss: 0.0608 - accuracy: 0.9804\n",
      "Epoch 35/50\n",
      "919/919 - 0s - loss: 0.0541 - accuracy: 0.9837\n",
      "Epoch 36/50\n",
      "919/919 - 0s - loss: 0.0496 - accuracy: 0.9880\n",
      "Epoch 37/50\n",
      "919/919 - 0s - loss: 0.0469 - accuracy: 0.9880\n",
      "Epoch 38/50\n",
      "919/919 - 0s - loss: 0.0467 - accuracy: 0.9859\n",
      "Epoch 39/50\n",
      "919/919 - 0s - loss: 0.0473 - accuracy: 0.9869\n",
      "Epoch 40/50\n",
      "919/919 - 0s - loss: 0.0480 - accuracy: 0.9859\n",
      "Epoch 41/50\n",
      "919/919 - 0s - loss: 0.0412 - accuracy: 0.9869\n",
      "Epoch 42/50\n",
      "919/919 - 0s - loss: 0.0393 - accuracy: 0.9913\n",
      "Epoch 43/50\n",
      "919/919 - 0s - loss: 0.0373 - accuracy: 0.9956\n",
      "Epoch 44/50\n",
      "919/919 - 0s - loss: 0.0340 - accuracy: 0.9913\n",
      "Epoch 45/50\n",
      "919/919 - 0s - loss: 0.0346 - accuracy: 0.9913\n",
      "Epoch 46/50\n",
      "919/919 - 0s - loss: 0.0347 - accuracy: 0.9913\n",
      "Epoch 47/50\n",
      "919/919 - 0s - loss: 0.0343 - accuracy: 0.9913\n",
      "Epoch 48/50\n",
      "919/919 - 0s - loss: 0.0345 - accuracy: 0.9891\n",
      "Epoch 49/50\n",
      "919/919 - 0s - loss: 0.0292 - accuracy: 0.9946\n",
      "Epoch 50/50\n",
      "919/919 - 0s - loss: 0.0292 - accuracy: 0.9956\n",
      "230/1 - 0s - loss: 0.1037 - accuracy: 0.9478\n",
      "Train on 920 samples\n",
      "Epoch 1/50\n",
      "920/920 - 1s - loss: 0.7345 - accuracy: 0.4978\n",
      "Epoch 2/50\n",
      "920/920 - 0s - loss: 0.6481 - accuracy: 0.5435\n",
      "Epoch 3/50\n",
      "920/920 - 0s - loss: 0.5972 - accuracy: 0.6663\n",
      "Epoch 4/50\n",
      "920/920 - 0s - loss: 0.5423 - accuracy: 0.7609\n",
      "Epoch 5/50\n",
      "920/920 - 0s - loss: 0.4935 - accuracy: 0.8076\n",
      "Epoch 6/50\n",
      "920/920 - 0s - loss: 0.4595 - accuracy: 0.8424\n",
      "Epoch 7/50\n",
      "920/920 - 0s - loss: 0.4303 - accuracy: 0.8859\n",
      "Epoch 8/50\n",
      "920/920 - 0s - loss: 0.4080 - accuracy: 0.9022\n",
      "Epoch 9/50\n",
      "920/920 - 0s - loss: 0.3891 - accuracy: 0.9239\n",
      "Epoch 10/50\n",
      "920/920 - 0s - loss: 0.3728 - accuracy: 0.9239\n",
      "Epoch 11/50\n",
      "920/920 - 0s - loss: 0.3579 - accuracy: 0.9424\n",
      "Epoch 12/50\n",
      "920/920 - 0s - loss: 0.3464 - accuracy: 0.9391\n",
      "Epoch 13/50\n",
      "920/920 - 0s - loss: 0.3339 - accuracy: 0.9543\n",
      "Epoch 14/50\n",
      "920/920 - 0s - loss: 0.3250 - accuracy: 0.9500\n",
      "Epoch 15/50\n",
      "920/920 - 0s - loss: 0.3136 - accuracy: 0.9598\n",
      "Epoch 16/50\n",
      "920/920 - 0s - loss: 0.3064 - accuracy: 0.9576\n",
      "Epoch 17/50\n",
      "920/920 - 0s - loss: 0.2975 - accuracy: 0.9598\n",
      "Epoch 18/50\n",
      "920/920 - 0s - loss: 0.2901 - accuracy: 0.9630\n",
      "Epoch 19/50\n",
      "920/920 - 0s - loss: 0.2828 - accuracy: 0.9620\n",
      "Epoch 20/50\n",
      "920/920 - 0s - loss: 0.2763 - accuracy: 0.9663\n",
      "Epoch 21/50\n",
      "920/920 - 0s - loss: 0.2696 - accuracy: 0.9652\n",
      "Epoch 22/50\n",
      "920/920 - 0s - loss: 0.2638 - accuracy: 0.9685\n",
      "Epoch 23/50\n",
      "920/920 - 0s - loss: 0.2570 - accuracy: 0.9685\n",
      "Epoch 24/50\n",
      "920/920 - 0s - loss: 0.2506 - accuracy: 0.9739\n",
      "Epoch 25/50\n",
      "920/920 - 0s - loss: 0.2462 - accuracy: 0.9707\n",
      "Epoch 26/50\n",
      "920/920 - 0s - loss: 0.2409 - accuracy: 0.9707\n",
      "Epoch 27/50\n",
      "920/920 - 0s - loss: 0.2359 - accuracy: 0.9772\n",
      "Epoch 28/50\n",
      "920/920 - 0s - loss: 0.2308 - accuracy: 0.9739\n",
      "Epoch 29/50\n",
      "920/920 - 0s - loss: 0.2260 - accuracy: 0.9761\n",
      "Epoch 30/50\n",
      "920/920 - 0s - loss: 0.2212 - accuracy: 0.9739\n",
      "Epoch 31/50\n",
      "920/920 - 0s - loss: 0.2157 - accuracy: 0.9772\n",
      "Epoch 32/50\n",
      "920/920 - 0s - loss: 0.2106 - accuracy: 0.9804\n",
      "Epoch 33/50\n",
      "920/920 - 0s - loss: 0.2057 - accuracy: 0.9848\n",
      "Epoch 34/50\n",
      "920/920 - 0s - loss: 0.2006 - accuracy: 0.9826\n",
      "Epoch 35/50\n",
      "920/920 - 0s - loss: 0.1945 - accuracy: 0.9826\n",
      "Epoch 36/50\n",
      "920/920 - 0s - loss: 0.1900 - accuracy: 0.9859\n",
      "Epoch 37/50\n",
      "920/920 - 0s - loss: 0.1848 - accuracy: 0.9891\n",
      "Epoch 38/50\n",
      "920/920 - 0s - loss: 0.1816 - accuracy: 0.9880\n",
      "Epoch 39/50\n",
      "920/920 - 0s - loss: 0.1758 - accuracy: 0.9891\n",
      "Epoch 40/50\n",
      "920/920 - 0s - loss: 0.1704 - accuracy: 0.9902\n",
      "Epoch 41/50\n",
      "920/920 - 0s - loss: 0.1661 - accuracy: 0.9935\n",
      "Epoch 42/50\n",
      "920/920 - 0s - loss: 0.1633 - accuracy: 0.9913\n",
      "Epoch 43/50\n",
      "920/920 - 0s - loss: 0.1585 - accuracy: 0.9913\n",
      "Epoch 44/50\n",
      "920/920 - 0s - loss: 0.1548 - accuracy: 0.9935\n",
      "Epoch 45/50\n",
      "920/920 - 0s - loss: 0.1513 - accuracy: 0.9924\n",
      "Epoch 46/50\n",
      "920/920 - 0s - loss: 0.1478 - accuracy: 0.9946\n",
      "Epoch 47/50\n",
      "920/920 - 0s - loss: 0.1449 - accuracy: 0.9946\n",
      "Epoch 48/50\n",
      "920/920 - 0s - loss: 0.1409 - accuracy: 0.9957\n",
      "Epoch 49/50\n",
      "920/920 - 0s - loss: 0.1379 - accuracy: 0.9946\n",
      "Epoch 50/50\n",
      "920/920 - 0s - loss: 0.1352 - accuracy: 0.9957\n",
      "229/1 - 0s - loss: 0.3340 - accuracy: 0.9345\n"
     ]
    },
    {
     "data": {
      "text/plain": [
       "array([0.93043476, 0.96956521, 0.97391301, 0.94782609, 0.93449783])"
      ]
     },
     "execution_count": 35,
     "metadata": {},
     "output_type": "execute_result"
    }
   ],
   "source": [
    "cross_val_score(keras_model, X_pure_train, y_pure_train)"
   ]
  },
  {
   "cell_type": "markdown",
   "metadata": {},
   "source": [
    "## Level Up: Regularization"
   ]
  },
  {
   "cell_type": "markdown",
   "metadata": {},
   "source": [
    "Does regularization make sense in the context of neural networks? <br/>\n",
    "\n",
    "Yes! We still have all of the salient ingredients: a loss function, overfitting vs. underfitting, and coefficients (weights) that could get too large.\n",
    "\n",
    "But there are now a few different flavors besides L1 and L2 regularization. (Note that L1 regularization is not common in the context of  neural networks.)\n"
   ]
  },
  {
   "cell_type": "markdown",
   "metadata": {},
   "source": [
    "Stay tuned for next lecture where we'll talk about regularization in the context of neural networks."
   ]
  }
 ],
 "metadata": {
  "celltoolbar": "Raw Cell Format",
  "colab": {
   "collapsed_sections": [],
   "name": "intro-to-keras.ipynb",
   "provenance": []
  },
  "kernelspec": {
   "display_name": "Python (tf)",
   "language": "python",
   "name": "tf"
  },
  "language_info": {
   "codemirror_mode": {
    "name": "ipython",
    "version": 3
   },
   "file_extension": ".py",
   "mimetype": "text/x-python",
   "name": "python",
   "nbconvert_exporter": "python",
   "pygments_lexer": "ipython3",
   "version": "3.7.13"
  }
 },
 "nbformat": 4,
 "nbformat_minor": 4
}
